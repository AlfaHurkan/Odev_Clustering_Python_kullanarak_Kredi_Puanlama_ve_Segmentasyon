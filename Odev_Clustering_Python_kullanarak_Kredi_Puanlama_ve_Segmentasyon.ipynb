{
  "nbformat": 4,
  "nbformat_minor": 0,
  "metadata": {
    "colab": {
      "provenance": []
    },
    "kernelspec": {
      "name": "python3",
      "display_name": "Python 3"
    },
    "language_info": {
      "name": "python"
    },
    "widgets": {
      "application/vnd.jupyter.widget-state+json": {
        "3a3763e1db2d4b2498d8cd093b9c8a4d": {
          "model_module": "@jupyter-widgets/controls",
          "model_name": "HBoxModel",
          "model_module_version": "1.5.0",
          "state": {
            "_dom_classes": [],
            "_model_module": "@jupyter-widgets/controls",
            "_model_module_version": "1.5.0",
            "_model_name": "HBoxModel",
            "_view_count": null,
            "_view_module": "@jupyter-widgets/controls",
            "_view_module_version": "1.5.0",
            "_view_name": "HBoxView",
            "box_style": "",
            "children": [
              "IPY_MODEL_eb8f1fafcdd74bf2bb04e0c2739b2a6b",
              "IPY_MODEL_23fd0d948f5f4a9792633dff29edc381",
              "IPY_MODEL_9a71bd654d5b4077bce88d0ea0683afe"
            ],
            "layout": "IPY_MODEL_4355cf30816c43f0951c14a8b2f46e75"
          }
        },
        "eb8f1fafcdd74bf2bb04e0c2739b2a6b": {
          "model_module": "@jupyter-widgets/controls",
          "model_name": "HTMLModel",
          "model_module_version": "1.5.0",
          "state": {
            "_dom_classes": [],
            "_model_module": "@jupyter-widgets/controls",
            "_model_module_version": "1.5.0",
            "_model_name": "HTMLModel",
            "_view_count": null,
            "_view_module": "@jupyter-widgets/controls",
            "_view_module_version": "1.5.0",
            "_view_name": "HTMLView",
            "description": "",
            "description_tooltip": null,
            "layout": "IPY_MODEL_9e4a03fa7f8547b396de47c09660ac3f",
            "placeholder": "​",
            "style": "IPY_MODEL_1172f220af394fe6a3a9b5229c664877",
            "value": "Processing:   0%"
          }
        },
        "23fd0d948f5f4a9792633dff29edc381": {
          "model_module": "@jupyter-widgets/controls",
          "model_name": "FloatProgressModel",
          "model_module_version": "1.5.0",
          "state": {
            "_dom_classes": [],
            "_model_module": "@jupyter-widgets/controls",
            "_model_module_version": "1.5.0",
            "_model_name": "FloatProgressModel",
            "_view_count": null,
            "_view_module": "@jupyter-widgets/controls",
            "_view_module_version": "1.5.0",
            "_view_name": "ProgressView",
            "bar_style": "",
            "description": "",
            "description_tooltip": null,
            "layout": "IPY_MODEL_0849ee27359744ceb5f47838cf583d5f",
            "max": 3,
            "min": 0,
            "orientation": "horizontal",
            "style": "IPY_MODEL_7766946c72094d9ebfcda9db2e4a232f",
            "value": 3
          }
        },
        "9a71bd654d5b4077bce88d0ea0683afe": {
          "model_module": "@jupyter-widgets/controls",
          "model_name": "HTMLModel",
          "model_module_version": "1.5.0",
          "state": {
            "_dom_classes": [],
            "_model_module": "@jupyter-widgets/controls",
            "_model_module_version": "1.5.0",
            "_model_name": "HTMLModel",
            "_view_count": null,
            "_view_module": "@jupyter-widgets/controls",
            "_view_module_version": "1.5.0",
            "_view_name": "HTMLView",
            "description": "",
            "description_tooltip": null,
            "layout": "IPY_MODEL_d89299d189c143ca90804e6a20a47683",
            "placeholder": "​",
            "style": "IPY_MODEL_ab200c3d4cf2447c80b29515268b07b0",
            "value": " 0/3 [00:00&lt;?, ?it/s]"
          }
        },
        "4355cf30816c43f0951c14a8b2f46e75": {
          "model_module": "@jupyter-widgets/base",
          "model_name": "LayoutModel",
          "model_module_version": "1.2.0",
          "state": {
            "_model_module": "@jupyter-widgets/base",
            "_model_module_version": "1.2.0",
            "_model_name": "LayoutModel",
            "_view_count": null,
            "_view_module": "@jupyter-widgets/base",
            "_view_module_version": "1.2.0",
            "_view_name": "LayoutView",
            "align_content": null,
            "align_items": null,
            "align_self": null,
            "border": null,
            "bottom": null,
            "display": null,
            "flex": null,
            "flex_flow": null,
            "grid_area": null,
            "grid_auto_columns": null,
            "grid_auto_flow": null,
            "grid_auto_rows": null,
            "grid_column": null,
            "grid_gap": null,
            "grid_row": null,
            "grid_template_areas": null,
            "grid_template_columns": null,
            "grid_template_rows": null,
            "height": null,
            "justify_content": null,
            "justify_items": null,
            "left": null,
            "margin": null,
            "max_height": null,
            "max_width": null,
            "min_height": null,
            "min_width": null,
            "object_fit": null,
            "object_position": null,
            "order": null,
            "overflow": null,
            "overflow_x": null,
            "overflow_y": null,
            "padding": null,
            "right": null,
            "top": null,
            "visibility": "hidden",
            "width": null
          }
        },
        "9e4a03fa7f8547b396de47c09660ac3f": {
          "model_module": "@jupyter-widgets/base",
          "model_name": "LayoutModel",
          "model_module_version": "1.2.0",
          "state": {
            "_model_module": "@jupyter-widgets/base",
            "_model_module_version": "1.2.0",
            "_model_name": "LayoutModel",
            "_view_count": null,
            "_view_module": "@jupyter-widgets/base",
            "_view_module_version": "1.2.0",
            "_view_name": "LayoutView",
            "align_content": null,
            "align_items": null,
            "align_self": null,
            "border": null,
            "bottom": null,
            "display": null,
            "flex": null,
            "flex_flow": null,
            "grid_area": null,
            "grid_auto_columns": null,
            "grid_auto_flow": null,
            "grid_auto_rows": null,
            "grid_column": null,
            "grid_gap": null,
            "grid_row": null,
            "grid_template_areas": null,
            "grid_template_columns": null,
            "grid_template_rows": null,
            "height": null,
            "justify_content": null,
            "justify_items": null,
            "left": null,
            "margin": null,
            "max_height": null,
            "max_width": null,
            "min_height": null,
            "min_width": null,
            "object_fit": null,
            "object_position": null,
            "order": null,
            "overflow": null,
            "overflow_x": null,
            "overflow_y": null,
            "padding": null,
            "right": null,
            "top": null,
            "visibility": null,
            "width": null
          }
        },
        "1172f220af394fe6a3a9b5229c664877": {
          "model_module": "@jupyter-widgets/controls",
          "model_name": "DescriptionStyleModel",
          "model_module_version": "1.5.0",
          "state": {
            "_model_module": "@jupyter-widgets/controls",
            "_model_module_version": "1.5.0",
            "_model_name": "DescriptionStyleModel",
            "_view_count": null,
            "_view_module": "@jupyter-widgets/base",
            "_view_module_version": "1.2.0",
            "_view_name": "StyleView",
            "description_width": ""
          }
        },
        "0849ee27359744ceb5f47838cf583d5f": {
          "model_module": "@jupyter-widgets/base",
          "model_name": "LayoutModel",
          "model_module_version": "1.2.0",
          "state": {
            "_model_module": "@jupyter-widgets/base",
            "_model_module_version": "1.2.0",
            "_model_name": "LayoutModel",
            "_view_count": null,
            "_view_module": "@jupyter-widgets/base",
            "_view_module_version": "1.2.0",
            "_view_name": "LayoutView",
            "align_content": null,
            "align_items": null,
            "align_self": null,
            "border": null,
            "bottom": null,
            "display": null,
            "flex": null,
            "flex_flow": null,
            "grid_area": null,
            "grid_auto_columns": null,
            "grid_auto_flow": null,
            "grid_auto_rows": null,
            "grid_column": null,
            "grid_gap": null,
            "grid_row": null,
            "grid_template_areas": null,
            "grid_template_columns": null,
            "grid_template_rows": null,
            "height": null,
            "justify_content": null,
            "justify_items": null,
            "left": null,
            "margin": null,
            "max_height": null,
            "max_width": null,
            "min_height": null,
            "min_width": null,
            "object_fit": null,
            "object_position": null,
            "order": null,
            "overflow": null,
            "overflow_x": null,
            "overflow_y": null,
            "padding": null,
            "right": null,
            "top": null,
            "visibility": null,
            "width": null
          }
        },
        "7766946c72094d9ebfcda9db2e4a232f": {
          "model_module": "@jupyter-widgets/controls",
          "model_name": "ProgressStyleModel",
          "model_module_version": "1.5.0",
          "state": {
            "_model_module": "@jupyter-widgets/controls",
            "_model_module_version": "1.5.0",
            "_model_name": "ProgressStyleModel",
            "_view_count": null,
            "_view_module": "@jupyter-widgets/base",
            "_view_module_version": "1.2.0",
            "_view_name": "StyleView",
            "bar_color": null,
            "description_width": ""
          }
        },
        "d89299d189c143ca90804e6a20a47683": {
          "model_module": "@jupyter-widgets/base",
          "model_name": "LayoutModel",
          "model_module_version": "1.2.0",
          "state": {
            "_model_module": "@jupyter-widgets/base",
            "_model_module_version": "1.2.0",
            "_model_name": "LayoutModel",
            "_view_count": null,
            "_view_module": "@jupyter-widgets/base",
            "_view_module_version": "1.2.0",
            "_view_name": "LayoutView",
            "align_content": null,
            "align_items": null,
            "align_self": null,
            "border": null,
            "bottom": null,
            "display": null,
            "flex": null,
            "flex_flow": null,
            "grid_area": null,
            "grid_auto_columns": null,
            "grid_auto_flow": null,
            "grid_auto_rows": null,
            "grid_column": null,
            "grid_gap": null,
            "grid_row": null,
            "grid_template_areas": null,
            "grid_template_columns": null,
            "grid_template_rows": null,
            "height": null,
            "justify_content": null,
            "justify_items": null,
            "left": null,
            "margin": null,
            "max_height": null,
            "max_width": null,
            "min_height": null,
            "min_width": null,
            "object_fit": null,
            "object_position": null,
            "order": null,
            "overflow": null,
            "overflow_x": null,
            "overflow_y": null,
            "padding": null,
            "right": null,
            "top": null,
            "visibility": null,
            "width": null
          }
        },
        "ab200c3d4cf2447c80b29515268b07b0": {
          "model_module": "@jupyter-widgets/controls",
          "model_name": "DescriptionStyleModel",
          "model_module_version": "1.5.0",
          "state": {
            "_model_module": "@jupyter-widgets/controls",
            "_model_module_version": "1.5.0",
            "_model_name": "DescriptionStyleModel",
            "_view_count": null,
            "_view_module": "@jupyter-widgets/base",
            "_view_module_version": "1.2.0",
            "_view_name": "StyleView",
            "description_width": ""
          }
        }
      }
    }
  },
  "cells": [
    {
      "cell_type": "markdown",
      "source": [],
      "metadata": {
        "id": "ECwsCtzhxt1U"
      }
    },
    {
      "cell_type": "code",
      "execution_count": 4,
      "metadata": {
        "id": "eDRuk5an7M1g"
      },
      "outputs": [],
      "source": [
        "#pip install pycaret"
      ]
    },
    {
      "cell_type": "code",
      "source": [
        "import pandas as pd"
      ],
      "metadata": {
        "id": "FtdCS6wT9cMK"
      },
      "execution_count": 5,
      "outputs": []
    },
    {
      "cell_type": "code",
      "source": [
        "# Clustering"
      ],
      "metadata": {
        "id": "L8kqc6cEeaSs"
      },
      "execution_count": 6,
      "outputs": []
    },
    {
      "cell_type": "code",
      "source": [
        "df=pd.read_csv('credit_scoring.csv')"
      ],
      "metadata": {
        "id": "Z6vRB6hQbLb6"
      },
      "execution_count": 7,
      "outputs": []
    },
    {
      "cell_type": "code",
      "source": [
        "df.head()"
      ],
      "metadata": {
        "colab": {
          "base_uri": "https://localhost:8080/",
          "height": 275
        },
        "id": "qzWMXlcFbpi7",
        "outputId": "2aef6b41-0a66-42bc-8bc2-51fedaf04883"
      },
      "execution_count": 8,
      "outputs": [
        {
          "output_type": "execute_result",
          "data": {
            "text/plain": [
              "   Age  Gender Marital Status Education Level Employment Status  \\\n",
              "0   60    Male        Married          Master          Employed   \n",
              "1   25    Male        Married     High School        Unemployed   \n",
              "2   30  Female         Single          Master          Employed   \n",
              "3   58  Female        Married             PhD        Unemployed   \n",
              "4   32    Male        Married        Bachelor     Self-Employed   \n",
              "\n",
              "   Credit Utilization Ratio  Payment History  Number of Credit Accounts  \\\n",
              "0                      0.22           2685.0                          2   \n",
              "1                      0.20           2371.0                          9   \n",
              "2                      0.22           2771.0                          6   \n",
              "3                      0.12           1371.0                          2   \n",
              "4                      0.99            828.0                          2   \n",
              "\n",
              "   Loan Amount  Interest Rate  Loan Term   Type of Loan  \n",
              "0      4675000           2.65         48  Personal Loan  \n",
              "1      3619000           5.19         60      Auto Loan  \n",
              "2       957000           2.76         12      Auto Loan  \n",
              "3      4731000           6.57         60      Auto Loan  \n",
              "4      3289000           6.28         36  Personal Loan  "
            ],
            "text/html": [
              "\n",
              "  <div id=\"df-b7db384a-9c9f-4590-9951-e22a8b53f04f\" class=\"colab-df-container\">\n",
              "    <div>\n",
              "<style scoped>\n",
              "    .dataframe tbody tr th:only-of-type {\n",
              "        vertical-align: middle;\n",
              "    }\n",
              "\n",
              "    .dataframe tbody tr th {\n",
              "        vertical-align: top;\n",
              "    }\n",
              "\n",
              "    .dataframe thead th {\n",
              "        text-align: right;\n",
              "    }\n",
              "</style>\n",
              "<table border=\"1\" class=\"dataframe\">\n",
              "  <thead>\n",
              "    <tr style=\"text-align: right;\">\n",
              "      <th></th>\n",
              "      <th>Age</th>\n",
              "      <th>Gender</th>\n",
              "      <th>Marital Status</th>\n",
              "      <th>Education Level</th>\n",
              "      <th>Employment Status</th>\n",
              "      <th>Credit Utilization Ratio</th>\n",
              "      <th>Payment History</th>\n",
              "      <th>Number of Credit Accounts</th>\n",
              "      <th>Loan Amount</th>\n",
              "      <th>Interest Rate</th>\n",
              "      <th>Loan Term</th>\n",
              "      <th>Type of Loan</th>\n",
              "    </tr>\n",
              "  </thead>\n",
              "  <tbody>\n",
              "    <tr>\n",
              "      <th>0</th>\n",
              "      <td>60</td>\n",
              "      <td>Male</td>\n",
              "      <td>Married</td>\n",
              "      <td>Master</td>\n",
              "      <td>Employed</td>\n",
              "      <td>0.22</td>\n",
              "      <td>2685.0</td>\n",
              "      <td>2</td>\n",
              "      <td>4675000</td>\n",
              "      <td>2.65</td>\n",
              "      <td>48</td>\n",
              "      <td>Personal Loan</td>\n",
              "    </tr>\n",
              "    <tr>\n",
              "      <th>1</th>\n",
              "      <td>25</td>\n",
              "      <td>Male</td>\n",
              "      <td>Married</td>\n",
              "      <td>High School</td>\n",
              "      <td>Unemployed</td>\n",
              "      <td>0.20</td>\n",
              "      <td>2371.0</td>\n",
              "      <td>9</td>\n",
              "      <td>3619000</td>\n",
              "      <td>5.19</td>\n",
              "      <td>60</td>\n",
              "      <td>Auto Loan</td>\n",
              "    </tr>\n",
              "    <tr>\n",
              "      <th>2</th>\n",
              "      <td>30</td>\n",
              "      <td>Female</td>\n",
              "      <td>Single</td>\n",
              "      <td>Master</td>\n",
              "      <td>Employed</td>\n",
              "      <td>0.22</td>\n",
              "      <td>2771.0</td>\n",
              "      <td>6</td>\n",
              "      <td>957000</td>\n",
              "      <td>2.76</td>\n",
              "      <td>12</td>\n",
              "      <td>Auto Loan</td>\n",
              "    </tr>\n",
              "    <tr>\n",
              "      <th>3</th>\n",
              "      <td>58</td>\n",
              "      <td>Female</td>\n",
              "      <td>Married</td>\n",
              "      <td>PhD</td>\n",
              "      <td>Unemployed</td>\n",
              "      <td>0.12</td>\n",
              "      <td>1371.0</td>\n",
              "      <td>2</td>\n",
              "      <td>4731000</td>\n",
              "      <td>6.57</td>\n",
              "      <td>60</td>\n",
              "      <td>Auto Loan</td>\n",
              "    </tr>\n",
              "    <tr>\n",
              "      <th>4</th>\n",
              "      <td>32</td>\n",
              "      <td>Male</td>\n",
              "      <td>Married</td>\n",
              "      <td>Bachelor</td>\n",
              "      <td>Self-Employed</td>\n",
              "      <td>0.99</td>\n",
              "      <td>828.0</td>\n",
              "      <td>2</td>\n",
              "      <td>3289000</td>\n",
              "      <td>6.28</td>\n",
              "      <td>36</td>\n",
              "      <td>Personal Loan</td>\n",
              "    </tr>\n",
              "  </tbody>\n",
              "</table>\n",
              "</div>\n",
              "    <div class=\"colab-df-buttons\">\n",
              "\n",
              "  <div class=\"colab-df-container\">\n",
              "    <button class=\"colab-df-convert\" onclick=\"convertToInteractive('df-b7db384a-9c9f-4590-9951-e22a8b53f04f')\"\n",
              "            title=\"Convert this dataframe to an interactive table.\"\n",
              "            style=\"display:none;\">\n",
              "\n",
              "  <svg xmlns=\"http://www.w3.org/2000/svg\" height=\"24px\" viewBox=\"0 -960 960 960\">\n",
              "    <path d=\"M120-120v-720h720v720H120Zm60-500h600v-160H180v160Zm220 220h160v-160H400v160Zm0 220h160v-160H400v160ZM180-400h160v-160H180v160Zm440 0h160v-160H620v160ZM180-180h160v-160H180v160Zm440 0h160v-160H620v160Z\"/>\n",
              "  </svg>\n",
              "    </button>\n",
              "\n",
              "  <style>\n",
              "    .colab-df-container {\n",
              "      display:flex;\n",
              "      gap: 12px;\n",
              "    }\n",
              "\n",
              "    .colab-df-convert {\n",
              "      background-color: #E8F0FE;\n",
              "      border: none;\n",
              "      border-radius: 50%;\n",
              "      cursor: pointer;\n",
              "      display: none;\n",
              "      fill: #1967D2;\n",
              "      height: 32px;\n",
              "      padding: 0 0 0 0;\n",
              "      width: 32px;\n",
              "    }\n",
              "\n",
              "    .colab-df-convert:hover {\n",
              "      background-color: #E2EBFA;\n",
              "      box-shadow: 0px 1px 2px rgba(60, 64, 67, 0.3), 0px 1px 3px 1px rgba(60, 64, 67, 0.15);\n",
              "      fill: #174EA6;\n",
              "    }\n",
              "\n",
              "    .colab-df-buttons div {\n",
              "      margin-bottom: 4px;\n",
              "    }\n",
              "\n",
              "    [theme=dark] .colab-df-convert {\n",
              "      background-color: #3B4455;\n",
              "      fill: #D2E3FC;\n",
              "    }\n",
              "\n",
              "    [theme=dark] .colab-df-convert:hover {\n",
              "      background-color: #434B5C;\n",
              "      box-shadow: 0px 1px 3px 1px rgba(0, 0, 0, 0.15);\n",
              "      filter: drop-shadow(0px 1px 2px rgba(0, 0, 0, 0.3));\n",
              "      fill: #FFFFFF;\n",
              "    }\n",
              "  </style>\n",
              "\n",
              "    <script>\n",
              "      const buttonEl =\n",
              "        document.querySelector('#df-b7db384a-9c9f-4590-9951-e22a8b53f04f button.colab-df-convert');\n",
              "      buttonEl.style.display =\n",
              "        google.colab.kernel.accessAllowed ? 'block' : 'none';\n",
              "\n",
              "      async function convertToInteractive(key) {\n",
              "        const element = document.querySelector('#df-b7db384a-9c9f-4590-9951-e22a8b53f04f');\n",
              "        const dataTable =\n",
              "          await google.colab.kernel.invokeFunction('convertToInteractive',\n",
              "                                                    [key], {});\n",
              "        if (!dataTable) return;\n",
              "\n",
              "        const docLinkHtml = 'Like what you see? Visit the ' +\n",
              "          '<a target=\"_blank\" href=https://colab.research.google.com/notebooks/data_table.ipynb>data table notebook</a>'\n",
              "          + ' to learn more about interactive tables.';\n",
              "        element.innerHTML = '';\n",
              "        dataTable['output_type'] = 'display_data';\n",
              "        await google.colab.output.renderOutput(dataTable, element);\n",
              "        const docLink = document.createElement('div');\n",
              "        docLink.innerHTML = docLinkHtml;\n",
              "        element.appendChild(docLink);\n",
              "      }\n",
              "    </script>\n",
              "  </div>\n",
              "\n",
              "\n",
              "<div id=\"df-799578ce-a3af-4e60-a193-51b66909f7d0\">\n",
              "  <button class=\"colab-df-quickchart\" onclick=\"quickchart('df-799578ce-a3af-4e60-a193-51b66909f7d0')\"\n",
              "            title=\"Suggest charts\"\n",
              "            style=\"display:none;\">\n",
              "\n",
              "<svg xmlns=\"http://www.w3.org/2000/svg\" height=\"24px\"viewBox=\"0 0 24 24\"\n",
              "     width=\"24px\">\n",
              "    <g>\n",
              "        <path d=\"M19 3H5c-1.1 0-2 .9-2 2v14c0 1.1.9 2 2 2h14c1.1 0 2-.9 2-2V5c0-1.1-.9-2-2-2zM9 17H7v-7h2v7zm4 0h-2V7h2v10zm4 0h-2v-4h2v4z\"/>\n",
              "    </g>\n",
              "</svg>\n",
              "  </button>\n",
              "\n",
              "<style>\n",
              "  .colab-df-quickchart {\n",
              "      --bg-color: #E8F0FE;\n",
              "      --fill-color: #1967D2;\n",
              "      --hover-bg-color: #E2EBFA;\n",
              "      --hover-fill-color: #174EA6;\n",
              "      --disabled-fill-color: #AAA;\n",
              "      --disabled-bg-color: #DDD;\n",
              "  }\n",
              "\n",
              "  [theme=dark] .colab-df-quickchart {\n",
              "      --bg-color: #3B4455;\n",
              "      --fill-color: #D2E3FC;\n",
              "      --hover-bg-color: #434B5C;\n",
              "      --hover-fill-color: #FFFFFF;\n",
              "      --disabled-bg-color: #3B4455;\n",
              "      --disabled-fill-color: #666;\n",
              "  }\n",
              "\n",
              "  .colab-df-quickchart {\n",
              "    background-color: var(--bg-color);\n",
              "    border: none;\n",
              "    border-radius: 50%;\n",
              "    cursor: pointer;\n",
              "    display: none;\n",
              "    fill: var(--fill-color);\n",
              "    height: 32px;\n",
              "    padding: 0;\n",
              "    width: 32px;\n",
              "  }\n",
              "\n",
              "  .colab-df-quickchart:hover {\n",
              "    background-color: var(--hover-bg-color);\n",
              "    box-shadow: 0 1px 2px rgba(60, 64, 67, 0.3), 0 1px 3px 1px rgba(60, 64, 67, 0.15);\n",
              "    fill: var(--button-hover-fill-color);\n",
              "  }\n",
              "\n",
              "  .colab-df-quickchart-complete:disabled,\n",
              "  .colab-df-quickchart-complete:disabled:hover {\n",
              "    background-color: var(--disabled-bg-color);\n",
              "    fill: var(--disabled-fill-color);\n",
              "    box-shadow: none;\n",
              "  }\n",
              "\n",
              "  .colab-df-spinner {\n",
              "    border: 2px solid var(--fill-color);\n",
              "    border-color: transparent;\n",
              "    border-bottom-color: var(--fill-color);\n",
              "    animation:\n",
              "      spin 1s steps(1) infinite;\n",
              "  }\n",
              "\n",
              "  @keyframes spin {\n",
              "    0% {\n",
              "      border-color: transparent;\n",
              "      border-bottom-color: var(--fill-color);\n",
              "      border-left-color: var(--fill-color);\n",
              "    }\n",
              "    20% {\n",
              "      border-color: transparent;\n",
              "      border-left-color: var(--fill-color);\n",
              "      border-top-color: var(--fill-color);\n",
              "    }\n",
              "    30% {\n",
              "      border-color: transparent;\n",
              "      border-left-color: var(--fill-color);\n",
              "      border-top-color: var(--fill-color);\n",
              "      border-right-color: var(--fill-color);\n",
              "    }\n",
              "    40% {\n",
              "      border-color: transparent;\n",
              "      border-right-color: var(--fill-color);\n",
              "      border-top-color: var(--fill-color);\n",
              "    }\n",
              "    60% {\n",
              "      border-color: transparent;\n",
              "      border-right-color: var(--fill-color);\n",
              "    }\n",
              "    80% {\n",
              "      border-color: transparent;\n",
              "      border-right-color: var(--fill-color);\n",
              "      border-bottom-color: var(--fill-color);\n",
              "    }\n",
              "    90% {\n",
              "      border-color: transparent;\n",
              "      border-bottom-color: var(--fill-color);\n",
              "    }\n",
              "  }\n",
              "</style>\n",
              "\n",
              "  <script>\n",
              "    async function quickchart(key) {\n",
              "      const quickchartButtonEl =\n",
              "        document.querySelector('#' + key + ' button');\n",
              "      quickchartButtonEl.disabled = true;  // To prevent multiple clicks.\n",
              "      quickchartButtonEl.classList.add('colab-df-spinner');\n",
              "      try {\n",
              "        const charts = await google.colab.kernel.invokeFunction(\n",
              "            'suggestCharts', [key], {});\n",
              "      } catch (error) {\n",
              "        console.error('Error during call to suggestCharts:', error);\n",
              "      }\n",
              "      quickchartButtonEl.classList.remove('colab-df-spinner');\n",
              "      quickchartButtonEl.classList.add('colab-df-quickchart-complete');\n",
              "    }\n",
              "    (() => {\n",
              "      let quickchartButtonEl =\n",
              "        document.querySelector('#df-799578ce-a3af-4e60-a193-51b66909f7d0 button');\n",
              "      quickchartButtonEl.style.display =\n",
              "        google.colab.kernel.accessAllowed ? 'block' : 'none';\n",
              "    })();\n",
              "  </script>\n",
              "</div>\n",
              "    </div>\n",
              "  </div>\n"
            ]
          },
          "metadata": {},
          "execution_count": 8
        }
      ]
    },
    {
      "cell_type": "code",
      "source": [
        "from pycaret.clustering import*"
      ],
      "metadata": {
        "id": "kcw_c3z9br9P"
      },
      "execution_count": 9,
      "outputs": []
    },
    {
      "cell_type": "code",
      "source": [
        "setup(df)"
      ],
      "metadata": {
        "colab": {
          "base_uri": "https://localhost:8080/",
          "height": 599
        },
        "id": "i0sFOoZMb1yb",
        "outputId": "527f3450-9274-4d30-f195-fe310fcf2bb7"
      },
      "execution_count": 10,
      "outputs": [
        {
          "output_type": "display_data",
          "data": {
            "text/plain": [
              "<pandas.io.formats.style.Styler at 0x784daae9e410>"
            ],
            "text/html": [
              "<style type=\"text/css\">\n",
              "#T_0be3e_row6_col1 {\n",
              "  background-color: lightgreen;\n",
              "}\n",
              "</style>\n",
              "<table id=\"T_0be3e\" class=\"dataframe\">\n",
              "  <thead>\n",
              "    <tr>\n",
              "      <th class=\"blank level0\" >&nbsp;</th>\n",
              "      <th id=\"T_0be3e_level0_col0\" class=\"col_heading level0 col0\" >Description</th>\n",
              "      <th id=\"T_0be3e_level0_col1\" class=\"col_heading level0 col1\" >Value</th>\n",
              "    </tr>\n",
              "  </thead>\n",
              "  <tbody>\n",
              "    <tr>\n",
              "      <th id=\"T_0be3e_level0_row0\" class=\"row_heading level0 row0\" >0</th>\n",
              "      <td id=\"T_0be3e_row0_col0\" class=\"data row0 col0\" >Session id</td>\n",
              "      <td id=\"T_0be3e_row0_col1\" class=\"data row0 col1\" >7589</td>\n",
              "    </tr>\n",
              "    <tr>\n",
              "      <th id=\"T_0be3e_level0_row1\" class=\"row_heading level0 row1\" >1</th>\n",
              "      <td id=\"T_0be3e_row1_col0\" class=\"data row1 col0\" >Original data shape</td>\n",
              "      <td id=\"T_0be3e_row1_col1\" class=\"data row1 col1\" >(1000, 12)</td>\n",
              "    </tr>\n",
              "    <tr>\n",
              "      <th id=\"T_0be3e_level0_row2\" class=\"row_heading level0 row2\" >2</th>\n",
              "      <td id=\"T_0be3e_row2_col0\" class=\"data row2 col0\" >Transformed data shape</td>\n",
              "      <td id=\"T_0be3e_row2_col1\" class=\"data row2 col1\" >(1000, 21)</td>\n",
              "    </tr>\n",
              "    <tr>\n",
              "      <th id=\"T_0be3e_level0_row3\" class=\"row_heading level0 row3\" >3</th>\n",
              "      <td id=\"T_0be3e_row3_col0\" class=\"data row3 col0\" >Ordinal features</td>\n",
              "      <td id=\"T_0be3e_row3_col1\" class=\"data row3 col1\" >1</td>\n",
              "    </tr>\n",
              "    <tr>\n",
              "      <th id=\"T_0be3e_level0_row4\" class=\"row_heading level0 row4\" >4</th>\n",
              "      <td id=\"T_0be3e_row4_col0\" class=\"data row4 col0\" >Numeric features</td>\n",
              "      <td id=\"T_0be3e_row4_col1\" class=\"data row4 col1\" >7</td>\n",
              "    </tr>\n",
              "    <tr>\n",
              "      <th id=\"T_0be3e_level0_row5\" class=\"row_heading level0 row5\" >5</th>\n",
              "      <td id=\"T_0be3e_row5_col0\" class=\"data row5 col0\" >Categorical features</td>\n",
              "      <td id=\"T_0be3e_row5_col1\" class=\"data row5 col1\" >5</td>\n",
              "    </tr>\n",
              "    <tr>\n",
              "      <th id=\"T_0be3e_level0_row6\" class=\"row_heading level0 row6\" >6</th>\n",
              "      <td id=\"T_0be3e_row6_col0\" class=\"data row6 col0\" >Preprocess</td>\n",
              "      <td id=\"T_0be3e_row6_col1\" class=\"data row6 col1\" >True</td>\n",
              "    </tr>\n",
              "    <tr>\n",
              "      <th id=\"T_0be3e_level0_row7\" class=\"row_heading level0 row7\" >7</th>\n",
              "      <td id=\"T_0be3e_row7_col0\" class=\"data row7 col0\" >Imputation type</td>\n",
              "      <td id=\"T_0be3e_row7_col1\" class=\"data row7 col1\" >simple</td>\n",
              "    </tr>\n",
              "    <tr>\n",
              "      <th id=\"T_0be3e_level0_row8\" class=\"row_heading level0 row8\" >8</th>\n",
              "      <td id=\"T_0be3e_row8_col0\" class=\"data row8 col0\" >Numeric imputation</td>\n",
              "      <td id=\"T_0be3e_row8_col1\" class=\"data row8 col1\" >mean</td>\n",
              "    </tr>\n",
              "    <tr>\n",
              "      <th id=\"T_0be3e_level0_row9\" class=\"row_heading level0 row9\" >9</th>\n",
              "      <td id=\"T_0be3e_row9_col0\" class=\"data row9 col0\" >Categorical imputation</td>\n",
              "      <td id=\"T_0be3e_row9_col1\" class=\"data row9 col1\" >mode</td>\n",
              "    </tr>\n",
              "    <tr>\n",
              "      <th id=\"T_0be3e_level0_row10\" class=\"row_heading level0 row10\" >10</th>\n",
              "      <td id=\"T_0be3e_row10_col0\" class=\"data row10 col0\" >Maximum one-hot encoding</td>\n",
              "      <td id=\"T_0be3e_row10_col1\" class=\"data row10 col1\" >-1</td>\n",
              "    </tr>\n",
              "    <tr>\n",
              "      <th id=\"T_0be3e_level0_row11\" class=\"row_heading level0 row11\" >11</th>\n",
              "      <td id=\"T_0be3e_row11_col0\" class=\"data row11 col0\" >Encoding method</td>\n",
              "      <td id=\"T_0be3e_row11_col1\" class=\"data row11 col1\" >None</td>\n",
              "    </tr>\n",
              "    <tr>\n",
              "      <th id=\"T_0be3e_level0_row12\" class=\"row_heading level0 row12\" >12</th>\n",
              "      <td id=\"T_0be3e_row12_col0\" class=\"data row12 col0\" >CPU Jobs</td>\n",
              "      <td id=\"T_0be3e_row12_col1\" class=\"data row12 col1\" >-1</td>\n",
              "    </tr>\n",
              "    <tr>\n",
              "      <th id=\"T_0be3e_level0_row13\" class=\"row_heading level0 row13\" >13</th>\n",
              "      <td id=\"T_0be3e_row13_col0\" class=\"data row13 col0\" >Use GPU</td>\n",
              "      <td id=\"T_0be3e_row13_col1\" class=\"data row13 col1\" >False</td>\n",
              "    </tr>\n",
              "    <tr>\n",
              "      <th id=\"T_0be3e_level0_row14\" class=\"row_heading level0 row14\" >14</th>\n",
              "      <td id=\"T_0be3e_row14_col0\" class=\"data row14 col0\" >Log Experiment</td>\n",
              "      <td id=\"T_0be3e_row14_col1\" class=\"data row14 col1\" >False</td>\n",
              "    </tr>\n",
              "    <tr>\n",
              "      <th id=\"T_0be3e_level0_row15\" class=\"row_heading level0 row15\" >15</th>\n",
              "      <td id=\"T_0be3e_row15_col0\" class=\"data row15 col0\" >Experiment Name</td>\n",
              "      <td id=\"T_0be3e_row15_col1\" class=\"data row15 col1\" >cluster-default-name</td>\n",
              "    </tr>\n",
              "    <tr>\n",
              "      <th id=\"T_0be3e_level0_row16\" class=\"row_heading level0 row16\" >16</th>\n",
              "      <td id=\"T_0be3e_row16_col0\" class=\"data row16 col0\" >USI</td>\n",
              "      <td id=\"T_0be3e_row16_col1\" class=\"data row16 col1\" >8a4b</td>\n",
              "    </tr>\n",
              "  </tbody>\n",
              "</table>\n"
            ]
          },
          "metadata": {}
        },
        {
          "output_type": "execute_result",
          "data": {
            "text/plain": [
              "<pycaret.clustering.oop.ClusteringExperiment at 0x784db475f2b0>"
            ]
          },
          "metadata": {},
          "execution_count": 10
        }
      ]
    },
    {
      "cell_type": "code",
      "source": [
        "kmeans=create_model('kmeans',4)"
      ],
      "metadata": {
        "colab": {
          "base_uri": "https://localhost:8080/",
          "height": 81,
          "referenced_widgets": [
            "3a3763e1db2d4b2498d8cd093b9c8a4d",
            "eb8f1fafcdd74bf2bb04e0c2739b2a6b",
            "23fd0d948f5f4a9792633dff29edc381",
            "9a71bd654d5b4077bce88d0ea0683afe",
            "4355cf30816c43f0951c14a8b2f46e75",
            "9e4a03fa7f8547b396de47c09660ac3f",
            "1172f220af394fe6a3a9b5229c664877",
            "0849ee27359744ceb5f47838cf583d5f",
            "7766946c72094d9ebfcda9db2e4a232f",
            "d89299d189c143ca90804e6a20a47683",
            "ab200c3d4cf2447c80b29515268b07b0"
          ]
        },
        "id": "FdcXH-UBb645",
        "outputId": "ca53decc-d902-4f48-b79d-834555559d47"
      },
      "execution_count": 11,
      "outputs": [
        {
          "output_type": "display_data",
          "data": {
            "text/plain": [
              "<IPython.core.display.HTML object>"
            ],
            "text/html": []
          },
          "metadata": {}
        },
        {
          "output_type": "display_data",
          "data": {
            "text/plain": [
              "<pandas.io.formats.style.Styler at 0x784d920e6980>"
            ],
            "text/html": [
              "<style type=\"text/css\">\n",
              "</style>\n",
              "<table id=\"T_84c6c\" class=\"dataframe\">\n",
              "  <thead>\n",
              "    <tr>\n",
              "      <th class=\"blank level0\" >&nbsp;</th>\n",
              "      <th id=\"T_84c6c_level0_col0\" class=\"col_heading level0 col0\" >Silhouette</th>\n",
              "      <th id=\"T_84c6c_level0_col1\" class=\"col_heading level0 col1\" >Calinski-Harabasz</th>\n",
              "      <th id=\"T_84c6c_level0_col2\" class=\"col_heading level0 col2\" >Davies-Bouldin</th>\n",
              "      <th id=\"T_84c6c_level0_col3\" class=\"col_heading level0 col3\" >Homogeneity</th>\n",
              "      <th id=\"T_84c6c_level0_col4\" class=\"col_heading level0 col4\" >Rand Index</th>\n",
              "      <th id=\"T_84c6c_level0_col5\" class=\"col_heading level0 col5\" >Completeness</th>\n",
              "    </tr>\n",
              "  </thead>\n",
              "  <tbody>\n",
              "    <tr>\n",
              "      <th id=\"T_84c6c_level0_row0\" class=\"row_heading level0 row0\" >0</th>\n",
              "      <td id=\"T_84c6c_row0_col0\" class=\"data row0 col0\" >0.5733</td>\n",
              "      <td id=\"T_84c6c_row0_col1\" class=\"data row0 col1\" >4921.0366</td>\n",
              "      <td id=\"T_84c6c_row0_col2\" class=\"data row0 col2\" >0.4985</td>\n",
              "      <td id=\"T_84c6c_row0_col3\" class=\"data row0 col3\" >0</td>\n",
              "      <td id=\"T_84c6c_row0_col4\" class=\"data row0 col4\" >0</td>\n",
              "      <td id=\"T_84c6c_row0_col5\" class=\"data row0 col5\" >0</td>\n",
              "    </tr>\n",
              "  </tbody>\n",
              "</table>\n"
            ]
          },
          "metadata": {}
        },
        {
          "output_type": "display_data",
          "data": {
            "text/plain": [
              "Processing:   0%|          | 0/3 [00:00<?, ?it/s]"
            ],
            "application/vnd.jupyter.widget-view+json": {
              "version_major": 2,
              "version_minor": 0,
              "model_id": "3a3763e1db2d4b2498d8cd093b9c8a4d"
            }
          },
          "metadata": {
            "application/vnd.jupyter.widget-view+json": {
              "colab": {
                "custom_widget_manager": {
                  "url": "https://ssl.gstatic.com/colaboratory-static/widgets/colab-cdn-widget-manager/b3e629b1971e1542/manager.min.js"
                }
              }
            }
          }
        },
        {
          "output_type": "display_data",
          "data": {
            "text/plain": [
              "<IPython.core.display.HTML object>"
            ],
            "text/html": []
          },
          "metadata": {}
        }
      ]
    },
    {
      "cell_type": "code",
      "source": [
        "plot_model(kmeans)"
      ],
      "metadata": {
        "colab": {
          "base_uri": "https://localhost:8080/",
          "height": 617
        },
        "id": "JOLVKZYAcHB6",
        "outputId": "2547d204-941d-4d05-a25d-d80c067805b8"
      },
      "execution_count": 12,
      "outputs": [
        {
          "output_type": "display_data",
          "data": {
            "text/plain": [
              "<IPython.core.display.HTML object>"
            ],
            "text/html": []
          },
          "metadata": {}
        },
        {
          "output_type": "display_data",
          "data": {
            "text/html": [
              "<html>\n",
              "<head><meta charset=\"utf-8\" /></head>\n",
              "<body>\n",
              "    <div>            <script src=\"https://cdnjs.cloudflare.com/ajax/libs/mathjax/2.7.5/MathJax.js?config=TeX-AMS-MML_SVG\"></script><script type=\"text/javascript\">if (window.MathJax && window.MathJax.Hub && window.MathJax.Hub.Config) {window.MathJax.Hub.Config({SVG: {font: \"STIX-Web\"}});}</script>                <script type=\"text/javascript\">window.PlotlyConfig = {MathJaxConfig: 'local'};</script>\n",
              "        <script charset=\"utf-8\" src=\"https://cdn.plot.ly/plotly-2.24.1.min.js\"></script>                <div id=\"1fcf5559-e7f5-44ad-8767-cff000f95391\" class=\"plotly-graph-div\" style=\"height:600px; width:100%;\"></div>            <script type=\"text/javascript\">                                    window.PLOTLYENV=window.PLOTLYENV || {};                                    if (document.getElementById(\"1fcf5559-e7f5-44ad-8767-cff000f95391\")) {                    Plotly.newPlot(                        \"1fcf5559-e7f5-44ad-8767-cff000f95391\",                        [{\"customdata\":[[38],[63],[34],[50],[24],[40],[62],[63],[42],[27],[51],[39],[32],[39],[41],[34],[58],[29],[31],[46],[52],[32],[42],[24],[28],[43],[29],[63],[53],[29],[63],[48],[59],[36],[20],[52],[37],[43],[59],[20],[32],[37],[22],[32],[59],[32],[46],[35],[25],[54],[32],[21],[25],[45],[41],[40],[64],[25],[27],[25],[45],[21],[28],[25],[34],[36],[47],[34],[27],[26],[23],[28],[42],[32],[39],[53],[36],[36],[49],[51],[54],[33],[64],[48],[28],[49],[54],[55],[45],[56],[32],[44],[39],[28],[39],[40],[31],[31],[49],[34],[60],[63],[33],[21],[62],[47],[32],[45],[44],[21],[45],[60],[46],[24],[50],[50],[29],[55],[65],[36],[21],[23],[54],[45],[36],[40],[23],[49],[47],[45],[63],[24],[25],[43],[44],[64],[22],[42],[34],[34],[42],[65],[36],[54],[58],[54],[60],[30],[27],[56],[64],[58],[32],[59],[48],[49],[25],[34],[64],[56],[21],[28],[51],[24],[33],[63],[62],[24],[41],[59],[35],[52],[23],[45],[34],[64],[54],[28],[52],[39],[22],[31],[61],[49],[21],[50],[41],[22],[64],[59],[54],[38],[29],[48],[34],[55],[48],[31],[30],[34],[58],[40],[45],[22],[36],[44],[43],[29],[30],[48],[61],[59],[28],[44],[40],[27],[46],[52],[26],[62],[45],[54],[30],[59],[63],[63],[29],[43],[64],[63],[36],[25],[38],[58],[24],[34],[60],[55],[26],[53],[37],[63],[53],[20]],\"hovertemplate\":\"Cluster=Cluster 0\\u003cbr\\u003ePCA1=%{x}\\u003cbr\\u003ePCA2=%{y}\\u003cbr\\u003eFeature=%{customdata[0]}\\u003cextra\\u003e\\u003c\\u002fextra\\u003e\",\"legendgroup\":\"Cluster 0\",\"marker\":{\"color\":\"#636efa\",\"opacity\":0.5,\"symbol\":\"circle\"},\"mode\":\"markers\",\"name\":\"Cluster 0\",\"orientation\":\"v\",\"showlegend\":true,\"x\":[-2016400.9976392859,-1977401.0132506,-2328400.9871990653,-1621401.0100233238,-2177400.994700911,-1384401.0152599828,-1249400.9970370363,-1571400.9869222094,-1784401.0054551677,-1963400.9937438255,-1822401.0061100058,-2143400.99665143,-2212401.0054355133,-1991401.0074085945,-1482401.011348346,-1628401.0139364493,-1622400.9895092312,-2240401.0005610324,-1712400.9914728154,-1383401.0048329867,-1332401.00419029,-1693401.0129639064,-1302401.0084246986,-1855400.9901758279,-2121401.0047948007,-2235401.013887652,-2316401.0015294557,-1206400.9869458948,-1801401.0093631672,-1483401.014588701,-1220401.0048420674,-1933400.9856001989,-1521401.0009165583,-1216400.9908615395,-1340400.9888950367,-2235400.998594536,-1710400.9999345802,-2045400.9862480396,-1743401.0038358208,-1318400.9892250076,-1871401.011975067,-2110401.0142284697,-2099400.999266144,-2320401.0060873795,-1705400.9934172428,-1635401.0129640766,-2129401.0155267036,-1282401.0025679742,-2292401.002836231,-1256401.0093950029,-1841400.9973285645,-1720400.9996167815,-2117401.0070653856,-1423401.0006097283,-1274400.997682154,-1946400.989179296,-2054400.991119362,-1947400.997964624,-1281400.9993193522,-2146401.008383105,-1460400.9911565357,-2110400.9894933845,-2337401.004781499,-2182401.010653594,-2270400.9999014544,-1349400.9931271477,-1390401.0006053397,-1652401.007426391,-1681401.0132880989,-1424400.992794822,-1775401.0097051924,-1759400.990500902,-2254400.987202249,-1815400.9937533715,-1719401.0149051605,-1291400.9882401538,-2125400.9943745583,-2268400.9833048233,-1962401.0005640604,-1329400.995720632,-2291401.0057531893,-1629401.0077497775,-1743400.9888593745,-1200401.000930926,-1358400.9963781934,-2033400.9956769117,-2211400.989154307,-2271400.988828008,-1830400.9862580074,-1974400.998606573,-1955400.9930859264,-1809401.0100128893,-1568400.9882207527,-1778401.009700085,-2204401.0083739334,-1742400.9989602787,-1303401.0120129539,-1658401.0015718313,-2122401.0093457317,-1262400.9882493233,-2362401.012584094,-2238400.9911036417,-2322401.005429897,-2267400.996648302,-1415401.0041731335,-1468400.9849692774,-1614401.0080788694,-1270401.0012680406,-1623401.0152441135,-2322400.9943726114,-1658401.0054673308,-2142400.995351317,-2300401.00997542,-1435400.9937709805,-2182400.984927729,-1649401.0054617443,-2027400.9963292477,-1229400.990854784,-1912401.0083818776,-2204401.013251592,-2061401.0012206233,-1281400.9869467984,-1512400.9921328633,-1958400.9969916847,-2214400.9937214805,-1234401.0113563074,-2145400.9976355503,-1840401.0022013595,-1641401.0136077504,-1354401.01199927,-1563400.9895116214,-2128401.005124482,-1916400.9973173132,-2008401.0148908258,-1623400.9869183593,-1713401.0070822788,-1261400.9921530366,-1925401.0044796858,-2311401.007709464,-1989400.9885244244,-2142401.007708267,-1780400.9937412245,-1717400.9934221793,-1829401.0152207753,-1885400.9960099738,-1968400.9849399936,-1766401.0122881925,-1653400.9947329115,-2344400.989806414,-1954400.991449878,-1696401.003835267,-2197401.0070518274,-1619400.9966871983,-2178400.9842742346,-2107401.010652167,-1722400.9908212782,-2138401.0077132112,-2336401.000544873,-1500400.9872482305,-2267400.9937074953,-1210400.9980137362,-1433401.006467831,-1564400.9966901836,-2363401.0028299084,-1808401.0064361878,-1649401.0051440136,-2036401.0021862506,-1260401.0042011961,-1462400.9940869836,-2100400.994040559,-1836400.9875568994,-1303400.995402376,-1894401.005139967,-1563400.9937601902,-1760401.002859491,-1477401.0119870114,-1320400.9993071205,-1922401.0067595418,-2139401.0002275915,-1565401.0158940714,-1548401.0009208743,-1947401.006106063,-1727401.0106689988,-1667401.0106814299,-2042400.9888506534,-2111400.9859095644,-1447400.9976724999,-1583400.990191099,-2026400.9881858258,-1644400.996676595,-2250400.9911041935,-2305401.0103061167,-1428400.9895382097,-1913400.9953666166,-1704400.9963556512,-1258401.011672752,-1236401.012325458,-1335400.9967064846,-1514401.0149273681,-1718400.983985715,-1747401.009042088,-2063400.984936475,-1981401.0145502717,-2077401.0064298145,-2065401.0074032892,-2274401.001534282,-1474401.0129750534,-1931401.0028516094,-1932400.9973166657,-2294401.0142121282,-1299401.010033819,-2353400.9871891406,-2054401.0057692316,-2004400.9901572953,-1477401.0077519,-1852400.9833376023,-2170400.9846110204,-1727400.998626551,-2322401.014223745,-1615401.0126221993,-2272400.996308896,-2288401.0070446306,-2301400.985254784,-1528401.001242345,-2304401.0122562777,-1671400.9963395363,-1640400.9960362543,-1535400.998964643,-1912400.9989340717,-2091400.995999979,-2036401.0126089342,-1868400.9885363062,-1370401.0139468282,-1262400.9836884125,-1806401.001883537,-1246401.0155826388,-2240400.990449043,-1996400.99795435,-1934401.0152255525,-1276400.986936992,-1506400.9914831005,-1530401.0022213922,-1465400.9999471717,-1526400.9947503263],\"xaxis\":\"x\",\"y\":[218.78253653376663,-1152.649238741068,1137.3254775394075,-870.7270570231935,477.6396832886442,-1331.428536966564,267.02380758176156,1156.7013278138322,-468.84941954100094,561.1549488644656,-526.4155330735485,306.22953840524997,-463.99668588740707,-638.5248162513286,-987.3229066080538,-1213.6591208193129,929.3179269033621,-35.69022190914361,758.3308977499272,-416.4279952039758,-360.0325696566766,-1127.9080883909612,-732.3395369964721,873.9241408023263,-408.0447724169636,-1206.699502919355,-120.78986807640165,1152.5338122274002,-811.6881892675361,-1272.265227314057,-418.3069571229327,1274.8472985735934,-71.87923421872514,809.646630219652,983.0818685591922,136.25434258904676,15.319426568433531,1219.0902564483565,-327.3258097058037,953.8522115887876,-1039.8930157628827,-1237.1238944445752,76.73835079208642,-520.7555904885439,587.2387699782614,-1128.5570017547948,-1350.9402492623697,-217.60197015029678,-235.09614023740767,-817.8745153074262,245.76520502005891,44.38751806290275,-608.0446410542968,-44.99590498426543,210.35330828114394,960.9959481251545,791.1918462502471,190.01864283789024,67.41010090818276,-722.7608254334767,784.4595454551791,934.8632259266782,-405.58412953782516,-922.3265227020426,21.686703375115748,611.1945166538897,-45.348569552083305,-642.3635490587783,-1156.0565696248684,641.0382631255535,-840.9864730325878,844.8298159208521,1136.4812713547838,559.4692414968164,-1298.5895901503745,1039.5131475700302,506.0350357282615,1478.663473599682,-38.809919333517904,382.9568209164635,-492.1060997415419,-670.6272733082673,987.650174138799,-75.48920006999008,326.2746932572774,390.9751917443481,964.0263992144656,993.6752697145641,1216.6744662227532,133.3037723098432,618.1098793946543,-868.5867045476363,1042.701438315527,-840.9286024697253,-722.098461751164,101.63850330857616,-1046.3630149031003,-128.28567048588755,-808.0329184565961,1039.1809150551526,-1091.29808599222,793.3010825850491,-462.7546152427898,307.65162380647433,-359.0504434958717,1327.5507438334425,-699.7964446013341,-103.73853368545619,-1328.7062624437574,508.2435958873225,-470.3078919926215,420.19454238522377,-862.9592778494971,555.1866844811121,1335.6513804442725,-470.3864778423384,333.92888541364346,809.8049276394366,-725.4116377108994,-1150.099732737295,-94.70645541106619,1153.4307694211734,699.0302740491659,275.12241163738685,564.026698377754,-990.1124797731406,220.25124325628764,-183.21001726124288,-1185.4769282766786,-1045.7581447642663,928.6460555745178,-436.95473016341845,246.65458580183224,-1295.3318842016952,1157.3280272383627,-612.6675421936297,696.203946531961,-382.2541737270574,-662.8807204052688,1018.4979857632959,-664.7592327719374,559.0831013810964,587.3866329552036,-1326.3352346999632,360.31313058779216,1333.2138931784148,-1069.0752030398075,471.6706218039364,908.5186185973744,761.088642138132,-327.8502204602345,-607.1540620334058,300.2697523463352,1392.616135920916,-923.1815110559046,815.4335718989199,-664.8047664457963,-34.560189057768135,1127.8815005391089,564.6637414586056,181.6226978827589,-558.8708311674523,299.61125024582043,-234.27718823799302,-554.5754968190092,-442.41973862471235,-180.9874064707049,-360.8519008468567,527.4720208892983,534.7398704311825,1102.7439980058355,410.67119694782565,-439.62947290786923,556.621654276,-241.1115423384722,-1044.3665833547523,67.86577984425324,-582.2766055724446,-7.838296376649134,-1386.3438534393274,-71.54870313869506,-524.9802364784952,-927.4861482466345,-928.2031522233616,991.0663957436025,1248.8543104000462,212.31322331956932,870.8481522283324,1047.9075541689513,300.5565408189925,793.4474952278749,-891.9022571352656,927.0727971009903,417.5976890310585,330.2158776563295,-1017.8616181319785,-1075.1026230511713,297.0352378576984,-1300.959727022914,1415.4102803878086,-784.2808680884692,1334.3166344692058,-1266.5918706876334,-551.54682261711,-637.6710501742231,-121.30214611670756,-1130.4032212129346,-239.16384782843699,246.82517596832395,-1235.0272134583965,-874.3607923057008,1137.621394168968,-494.7620876305906,875.633540299808,-672.3344675110714,1473.9017319013349,1363.5136682195068,130.4682426675973,-1234.743682834283,-1099.7607925095238,336.71094725478963,-606.095397340682,1308.0268538585244,-100.77563595326778,-1062.9594100941008,329.8763202578808,357.50971467017996,99.31526404392841,103.61088636469492,362.6260125450453,-1094.9898732190663,1017.1182527424146,-1216.565120357029,1439.1702845738876,-154.5999023507038,-1360.9659047726684,850.3574558829496,190.5549399602522,-1325.1511747218074,1153.3761857089582,755.995469372174,-186.763892877254,12.517520727777763,470.1990143485072],\"yaxis\":\"y\",\"type\":\"scatter\",\"textposition\":\"top center\"},{\"customdata\":[[31],[36],[31],[64],[39],[31],[20],[49],[40],[29],[48],[46],[60],[59],[48],[56],[60],[45],[34],[28],[20],[25],[36],[55],[65],[48],[55],[34],[54],[29],[36],[31],[51],[57],[39],[33],[27],[20],[41],[34],[32],[25],[60],[38],[57],[49],[20],[56],[55],[62],[60],[25],[41],[29],[39],[64],[56],[51],[45],[56],[63],[30],[44],[30],[43],[57],[35],[45],[26],[38],[48],[56],[56],[21],[31],[23],[44],[22],[23],[44],[25],[31],[44],[39],[42],[47],[20],[28],[28],[49],[63],[37],[65],[26],[22],[52],[29],[53],[27],[58],[36],[50],[52],[46],[24],[51],[44],[32],[26],[55],[62],[61],[63],[47],[38],[35],[45],[47],[55],[58],[32],[31],[32],[24],[40],[24],[45],[34],[43],[53],[30],[32],[20],[52],[65],[55],[64],[56],[25],[37],[22],[38],[56],[55],[37],[54],[65],[27],[24],[25],[54],[49],[55],[37],[58],[36],[48],[52],[23],[49],[41],[42],[22],[31],[29],[33],[44],[38],[44],[45],[49],[39],[45],[38],[59],[58],[60],[45],[39],[54],[40],[37],[26],[26],[45],[40],[61],[62],[22],[35],[43],[49],[33],[53],[26],[35],[23],[39],[46],[35],[20],[23],[47],[29],[54],[29],[57],[50],[56],[54],[58],[58],[38],[44],[38],[62],[49],[46],[61],[54],[61],[60],[22],[61],[27],[51],[49],[64],[64],[61],[44],[39],[26],[54],[58],[38],[53],[35]],\"hovertemplate\":\"Cluster=Cluster 1\\u003cbr\\u003ePCA1=%{x}\\u003cbr\\u003ePCA2=%{y}\\u003cbr\\u003eFeature=%{customdata[0]}\\u003cextra\\u003e\\u003c\\u002fextra\\u003e\",\"legendgroup\":\"Cluster 1\",\"marker\":{\"color\":\"#EF553B\",\"opacity\":0.5,\"symbol\":\"circle\"},\"mode\":\"markers\",\"name\":\"Cluster 1\",\"orientation\":\"v\",\"showlegend\":true,\"x\":[1640598.9946332066,1999599.0004729275,1710598.986501727,1455599.0037760977,1484599.0024636535,1709599.0122087786,1621599.0047247268,1801599.010254728,1582599.0066846225,1591599.0128603578,1277598.99044361,2429598.9874350135,2035599.0034182009,1767598.9939906178,2306598.985810604,1608598.9884597522,1999598.999507886,2126598.991028155,1738598.9982104138,1236598.9946605493,2444599.0105225444,1575598.987151264,1430599.0027801765,1249599.0155063553,1612598.9891155958,1622599.0018119086,2476598.991329065,2422599.013147617,1437599.0161427397,1366598.986194687,2095599.0040526902,2149598.98646823,2127599.00177452,2222599.008919354,1270599.0119059263,2238598.9861338083,1494599.0151445759,2448599.0027136845,1572599.0135179157,1809598.999186176,1426598.9975815122,2320599.010869099,2203598.9858266804,1960599.0121943147,1858599.0148182728,1423599.0014962098,2054599.0024196783,2103598.9998165234,2334599.007622082,1818598.9975587206,1415599.0132217538,2018598.9955907483,2106598.9959119945,1774599.0017935075,2188598.9877625573,1337598.9936856774,1935598.9959231867,1838598.9842210482,1942599.0131808314,1895599.016110702,1841599.0017999497,2256598.9884128505,2228598.9942824324,2123598.9877682845,2108598.9949437957,1727599.0066829608,1425598.989110468,2056599.000150083,2453599.014430879,1627598.9874843108,1689599.013515982,1452599.001485963,2027598.9913612849,1576598.9894325768,1879599.0151298472,1516599.0047382344,2095599.008927847,1644599.01319074,1768599.014152245,1971598.9926764432,2162599.0069678137,2296598.9900361076,1332599.0151692776,2460598.991332223,1828599.0099311536,2498599.0004437813,1602599.0079876988,1696598.9864959223,1252599.0106036623,1712599.0099347066,1609599.0105911507,1782599.007315215,1624599.0073350118,1861598.9949511294,1704598.9848664207,2416599.0163899343,1289599.0099574274,2289598.996233025,1236599.0050717122,1578599.002787665,2039599.0115405421,1875598.987473802,1951599.0060181716,2412599.0033886973,1494599.003109161,2400598.9848355106,2298599.0151018943,2162598.993948907,2037598.9933156797,2274599.0007879096,1919598.9913718076,2075599.0030845755,1469599.0138636404,2046598.996247204,1946599.0027528238,2413598.987099689,1402598.9920593428,1583598.9982223546,1721598.9920363852,1590598.999203372,1751598.986167206,1662599.0008165082,1350598.9865228669,1851598.9858331934,1300598.9891234601,1873599.0060036907,2461598.997508966,1930599.0043763672,1980599.0043839302,1779598.9878037611,2491598.986444359,1654599.0125373907,1673599.0164318532,2137598.9838743336,2173599.0086084097,1423599.0037746036,1585599.012879576,2102598.9923350983,1994598.9858298234,1337598.9940113572,1332599.009954333,1757599.0099300388,2369598.9884148245,2474599.0059823664,1710599.0047235256,1306598.9871776868,2524599.0118309404,2030599.003408143,1819599.0014554542,1496599.0105934963,2128599.007965684,1679598.9936589636,1809599.0115613816,1925599.010901068,1902599.007979503,1425599.0151586167,1300599.0148545727,1529598.99985676,2036598.9890690567,1945598.9845262426,2310599.0063164746,1339599.0132179523,1458599.0099437572,1753598.9923541807,2403599.003702509,2377598.9926418043,1942598.9845311546,2101598.984509841,2115599.0004667416,2206598.9854879915,1336598.9852285604,1771598.9939800869,1461598.9969336593,2303599.007286696,1270599.0096319187,1520598.9904316901,1731599.0001770824,1488599.0031149213,1241599.016468394,1840599.0001707943,1375598.9861886026,2516599.010525486,2426598.9893736662,1298598.9953020255,1790598.9929960216,1837599.00146026,1563598.996924286,2078599.0154530278,1865599.001129657,2253598.996873243,1293599.0109433434,2452598.9903601077,2160599.0105472445,1974599.0141423133,1442599.0086431345,1544598.9959422417,2073598.9880958847,2025598.997538547,1961598.9995038654,2012598.9907075102,2213598.9871097803,1657598.989091047,1989598.9985310587,1526599.0044004377,2055599.005690406,1850598.9838765142,2013599.015779016,1913598.992345179,2283598.9877662547,1303598.9894630553,1649598.9933444588,2484598.992965455,2487599.007599479,1672599.0021192436,1537598.995295127,1646598.9884572388,2256599.0164001505,1816598.9930005143,2213599.009580599,1902599.0073116794,1511599.0027873504,1554599.0008410758,2239598.9929696303,2383599.0069637513,1993599.009577381,1460598.9953080309,1715598.9865053827,1639599.007339468,2036598.9916929898,1704599.0086454977,2135599.011532617,1393599.008977875,1826598.9972256005,2029598.9864811627,2259599.000793309,1448599.003768936,2317598.99721042,1829599.0109035298],\"xaxis\":\"x\",\"y\":[-479.89807976097524,30.056741140555015,-1194.6506090963442,322.25573057869707,207.90195531392567,1062.3478131240745,406.3283891645652,890.2662092822127,577.7854937082913,1120.658918976672,-846.7176017331869,-1116.874225176905,287.6482062917552,-538.2987726384501,-1258.4844054908601,-1022.5213703862062,-54.964538135427745,-799.4346663406585,-166.9809915348154,-475.28413336409244,910.9407878503381,-1136.1477610148838,236.49300309092433,1353.5901459725035,-965.5331664037199,149.3521041222174,-775.4091433313007,1140.2384135348755,1408.447777440831,-1219.731180726664,343.95129949294306,-1199.6842711355628,143.56624302002598,770.4706619026465,1038.32669292041,-1229.6872515792236,1321.7639256793946,224.9292314728357,1177.8971825026263,-81.78862235541891,-220.41640985620435,941.3876214601747,-1257.27700712319,1059.4784255537961,1289.66251857022,122.61987018249135,201.4073213799499,-28.171128328910896,655.2415803798954,-224.9244422396875,1151.7110896218037,-398.1817037419889,-371.16152608295937,147.60843074930682,-1086.1416020559614,-562.4235492247736,-369.24634859979824,-1396.1185411841475,1145.6955169169407,1403.208563459779,146.84613273845227,-1029.881643578491,-514.573453999588,-1085.3781517664038,-456.18394759924803,576.1557822275873,-963.4499734994347,1.3863558705224637,1253.8388425724545,-1107.7387231925206,1176.5772716923507,122.24314636365754,-770.2835576841488,-936.1462071710822,1317.4244495382106,407.5583076106839,771.9397147777953,1149.0780022677047,1232.6869554410089,-654.6221104810584,600.1654905649698,-887.3496561796729,1323.6560350075365,-775.1928712658071,861.0057992912568,24.373394391311926,692.5780756858187,-1194.5245229783677,924.5203948226325,862.303480277805,920.4550360872017,632.4940869994044,634.2852105774118,-453.3837120964823,-1337.6049638159425,1425.2602948368462,867.132002012419,-344.2558588224559,438.72503547707703,234.85494344666773,1001.5900769316756,-1110.5413084516417,516.60395559241,283.3525954955123,264.79871532962306,-1345.508640113501,1312.6287521149422,-542.8451125254091,-598.3752971418941,55.90260351653904,-769.0523475306087,258.18145402168756,1208.0830631527099,-341.4884725310195,230.6394688678729,-1145.7037020047628,-705.1641899781463,-165.2159905111211,-708.8214653026301,-79.31637918145556,-1224.1289193382713,62.86051689171835,-1190.5720771622844,-1253.302101504549,-962.0030089926778,517.4453090102879,-232.25202822546143,373.79705416771196,373.27332565202425,-1081.4357113916826,-1203.5817691656919,1091.9412119420042,1433.7467344687889,-1428.5123223548133,743.0300931633464,322.6083167321439,1120.7636415227398,-685.1489529754405,-1254.9071943229833,-533.4126981396578,866.6436436732274,861.8010150989649,-1031.1573288619004,510.6352652209124,405.3148053855247,-1133.0922146401906,1024.0312553830681,287.70473988380644,118.07405656680012,921.7752589831742,686.5881692877665,-566.3301376869161,1004.2002457269715,945.899267917284,689.1504147630081,1322.5944467117083,1296.0210375124511,-21.609926816058177,-970.3990613991842,-1369.3715626346834,541.491254565394,1152.564170422365,865.2064002624409,-681.1508699539492,311.4437979939309,-659.2702990149079,-1369.3033040095615,-1371.151024664346,28.735524393928767,-1286.3346810231883,-1304.4231287255504,-538.3788458307121,-277.81468895689125,626.5822561261451,838.3152245387486,-849.484637267823,5.088866055733914,264.8565786078594,1438.6791404371384,3.8698848257264946,-1219.869099678505,910.1219314240359,-945.8525432976923,-418.99251846078187,-624.6074595062308,117.86897231632773,-279.0206298778074,1344.1460232061145,89.53701052441396,-286.8710888957419,953.0889600841492,-860.1372560810236,914.1881093962472,1230.307401059653,751.3667581089087,-364.782730594843,-1055.8320187884628,-227.2736513318853,-54.55453925200145,-827.1019550567579,-1143.4143349172052,-966.0937175049831,-140.82690278086295,378.39938854606345,487.3978025571611,-1425.2905376099202,1372.8990158617605,-682.9853690760126,-1087.1999363528212,-933.0237739958283,-593.9779529413214,-632.4660057597314,653.4533133345337,176.73745271769153,-421.6921525819679,-1022.9551099806497,1427.0833878011233,-624.8800783145446,827.6204278297719,631.1171658595873,235.59389867036106,64.12710735326823,-629.6771058885538,597.6380617955235,830.0905041372504,-420.8019325421039,-1194.7287973551101,634.1585014555071,-741.3854181248491,748.4183465285191,1000.473689071107,779.9601781759891,-253.01923952191106,-1198.329150662779,56.096282748050214,322.3344426921429,-258.575872457057,946.9713059595779],\"yaxis\":\"y\",\"type\":\"scatter\",\"textposition\":\"top center\"},{\"customdata\":[[51],[48],[30],[40],[37],[53],[47],[47],[26],[29],[32],[57],[62],[35],[37],[38],[63],[42],[38],[35],[65],[28],[39],[38],[49],[51],[39],[57],[38],[21],[51],[22],[40],[40],[54],[22],[61],[41],[29],[52],[53],[49],[49],[55],[52],[62],[65],[33],[28],[49],[50],[57],[64],[36],[57],[47],[29],[33],[62],[54],[64],[52],[31],[23],[29],[64],[24],[56],[53],[61],[32],[27],[47],[23],[64],[46],[44],[57],[65],[27],[26],[23],[54],[27],[35],[63],[64],[25],[56],[42],[30],[44],[24],[23],[51],[51],[39],[40],[61],[46],[27],[35],[26],[26],[43],[28],[34],[61],[44],[34],[52],[44],[27],[21],[24],[61],[32],[20],[49],[47],[50],[42],[62],[30],[28],[37],[53],[43],[61],[26],[60],[22],[28],[58],[49],[21],[37],[41],[28],[36],[58],[33],[38],[41],[29],[33],[26],[44],[64],[64],[25],[31],[42],[38],[38],[60],[60],[38],[37],[40],[65],[33],[59],[39],[24],[64],[55],[23],[60],[41],[57],[29],[25],[46],[29],[59],[63],[58],[62],[64],[26],[40],[46],[57],[27],[26],[49],[59],[56],[54],[60],[57],[40],[48],[45],[32],[64],[25],[35],[34],[42],[61],[35],[50],[20],[38],[42],[37],[50],[24],[31],[31],[42],[59],[59],[54],[54],[26],[28],[49],[54],[29],[27],[43],[36],[34],[63],[51],[25],[59],[28],[21],[41],[51],[31],[30],[47],[34],[35],[24],[23],[42],[48],[47],[64],[60],[42],[61],[57],[41],[39],[46],[51],[40],[26],[45],[62],[40],[48],[60],[52],[37],[46],[48],[21],[60],[47]],\"hovertemplate\":\"Cluster=Cluster 2\\u003cbr\\u003ePCA1=%{x}\\u003cbr\\u003ePCA2=%{y}\\u003cbr\\u003eFeature=%{customdata[0]}\\u003cextra\\u003e\\u003c\\u002fextra\\u003e\",\"legendgroup\":\"Cluster 2\",\"marker\":{\"color\":\"#00cc96\",\"opacity\":0.5,\"symbol\":\"circle\"},\"mode\":\"markers\",\"name\":\"Cluster 2\",\"orientation\":\"v\",\"showlegend\":true,\"x\":[-571401.0126960176,-277400.99644270557,-634401.0094392688,-450401.0146563418,-804400.9993460799,-1124401.0032164268,-302400.9983950645,-424400.99773618067,-940400.9951085985,-1147401.008114624,-685400.9921963621,-139400.98375996514,-902401.0058347593,-1041400.9941131143,-1122400.9872720032,-743401.0159447679,-330401.0058802932,-331401.00230506685,-274401.0084948161,-1130401.0113671839,-69401.0097994439,-179400.9964490085,-1045401.0120200398,-873401.0061814013,-649400.9970806758,-1055401.0029029693,-530400.9850358169,-1134401.00582058,-384401.01141845033,-356400.99612498435,-563400.9961003788,-405401.00003235997,-478401.00716794585,-672400.9882804911,-364401.01400519704,-808400.9996701926,-1031401.0025681626,-747400.9860006402,-569400.9886242462,-201400.98440370004,-763400.9886037769,-360400.9996932258,-281400.9905809517,-25401.001984522998,-312401.0006707314,-60401.01306079065,-617401.0039069373,-655401.0032576079,-479400.99806041544,-613401.0123612444,-410400.9918696717,-537400.9931720269,-661400.9895709759,-773400.9869789061,-966401.0087589768,-298400.9896056692,-558401.0114115704,-930401.0048648526,-572400.9899120536,-862400.9882663761,-651401.0045510466,-197401.00295856415,-274401.0153292882,-37400.997440235886,-221400.99222471344,-73400.99905119462,-1088400.9983500922,-592400.9908924956,-262400.9944945101,-56401.000036192825,-1135401.007136024,-1098401.0116890501,-601400.987311485,-472401.01336592657,-712401.0094222168,-388401.0078242309,-968400.9859789927,-92401.00197963128,-273401.00002410944,-126401.01371736354,-607401.0094432487,-188400.99320393908,-1165400.9947582663,-938401.0143065648,-697401.0029295316,-28401.01338104047,-1094401.0045209124,-862401.015299162,-188401.01109135366,-935401.0100708586,-597400.9843794085,-450401.01531578164,-1173400.9996502353,-194400.99417623266,-148401.00621676055,-30400.986689724898,-399400.98927876377,-24401.009163580205,-764400.9876204589,-856400.9886005856,-373401.00132427865,-990400.9999846844,-460401.00327593234,-7400.989629689917,-609400.9850325029,-817400.9863252424,-429401.00295091746,-852400.9872833361,-806401.0156154344,-188401.00719307782,-936401.0061663477,-544400.9899232317,-971401.0042181761,-145400.9840974291,-513401.00197110604,-299400.997749134,-1145400.9947672996,-293401.0149994937,-567401.0153095052,-1070401.0025684743,-547401.0068388559,-276400.9879928872,-483401.014979131,-1051400.9853382944,-128400.99906590248,-563401.0006659472,-5401.012398862896,-507400.9873183211,-995401.0045358699,-512400.9961156151,-389401.0100997117,-610400.9853702646,-364401.0094599355,-650401.0159452019,-5401.013718882053,-342401.0071840115,-772400.989251875,-1007401.0061658404,-1162401.0022582023,-991401.0146222961,-597400.9921866481,-1150400.9895527398,-868400.9869702628,-365401.01563864463,-1019400.9846868844,-113400.98474255824,-362400.997099024,-830400.9925040279,-915401.0100673529,-1139400.9898794647,-666400.9983843673,-97400.99776596436,-1103400.986623096,-949400.9879476131,-470400.9925376068,-674400.9973870384,-1127401.0012705256,-702400.9847041187,-809401.010080087,-327400.993190228,-912400.9957433352,-284400.9912402657,-539401.0153097311,-24400.98573252002,-151400.98573088864,-53400.98636701966,-336401.01596554805,-141400.98573033907,-194401.00718909077,-459401.0117281074,-620400.9863375969,-96401.00068998414,-729401.0159512799,-258400.99255143717,-602401.0016421406,-997400.9889059083,-320400.9931853548,-1150400.9843385462,-854400.9931545289,-514401.0071630172,-292400.99645140383,-268400.998068745,-302401.01369520335,-691400.9915321893,-1071401.0120285093,-723400.9889390353,-38400.99352267607,-754400.9902305808,-462401.0058661883,-1137401.0146045259,-526400.996413775,-877401.0087712136,-694401.013994553,-132400.98440389478,-390401.00944773486,-1183400.9892271135,-1179401.0068006848,-296400.98408564116,-914400.9993384964,-418401.0153243866,-1007401.0116973901,-473400.98992459103,-480401.00750393805,-326401.01010366797,-131400.9857294838,-618400.9840629754,-951401.0152787821,-861400.9846901153,-281400.99155862303,-658401.0039228399,-855401.0019475849,-309400.98960632965,-741401.0087796565,-1018401.0126716052,-165401.0084966878,-162401.00198207799,-1151400.9999677588,-1173401.0155918181,-617401.0052224122,-787400.995434757,-41401.002970053654,-646401.0019577636,-224401.01337512155,-702401.011388534,6598.990186277238,-185400.9971086917,-1148400.998988288,-25400.99841036056,-1185400.99086155,-924401.0022594114,-845401.0006452398,-955400.991526542,-390400.9974197195,-1170400.9963848179,-835401.0133347722,-94400.99645616314,-569400.999365816,-288401.01239005104,-208401.00328723947,-273401.0055578712,-1042400.990228458,-181401.00718711936,-676401.0159466362,-698400.98470608,-1050400.993139714,-737401.0048671323,-599401.0136737002,-251400.98830611692,4599.007125884203,-114400.99222961887,-1192400.986948027,-945401.0097428228,-968401.0016167983,-734401.0035727146,-973401.0110505663,-195401.00393811718,-427401.01498321275,-113400.98766975461,-610400.9882797634,-123401.0143470268,-1193401.0146071105,-791401.0104132913,-1163401.01004988,-803400.9921766657,-185400.984739892,-390400.99383585836,-403400.99349986255],\"xaxis\":\"x\",\"y\":[-1111.6762913925345,313.95114948979557,-824.948035010124,-1284.0547528428795,61.987265016799725,-276.37700389044954,142.26977741598006,200.67024940217894,435.5123657017625,-705.1390542542562,689.6076599750195,1426.3789154507976,-507.89433257696635,522.6975238179904,1123.6199532165526,-1395.695940177127,-514.4457056144946,-200.42277566466174,-744.050411467283,-991.2986711329464,-860.3962979923144,312.8681604608044,-1049.2664839585316,-537.2497692864766,260.1873626419961,-249.16282491177753,1316.8433803408514,-505.2408788439788,-999.8197725120807,342.8713605313657,345.24179135819907,0.40712518142351134,-626.7244311918872,1032.4946998577263,-1228.0131212237427,34.021526440997896,-220.41439563490013,1233.3152539304353,1002.2978776267225,1370.1060824380054,1004.5092115572081,28.90834588624676,828.0404584704374,-174.87386655378046,-57.60595877740728,-1146.5100914237933,-340.14299835363744,-281.7328383880471,173.28459036196713,-1082.1762667524265,715.510523182451,601.9458663920348,918.3701263973746,1147.6324686632602,-764.1543350685256,914.2108368921226,-997.8495131361208,-421.57726336418796,888.3340888730728,1034.647390607615,-396.7422876791899,-258.9375443272324,-1344.0388559178612,225.24984348664248,684.3230956025844,82.67379929351465,151.2330976224975,802.5607474736698,484.790163533243,-3.5320605230563684,-619.2760173551751,-1019.6523922551141,1117.6401057391543,-1169.8182255149015,-824.0483512514597,-684.7621974071556,1235.867230460869,-174.11048014176802,-1.0723802946198249,-1202.758999808924,-825.2561054809937,597.9698858923099,466.1121673112279,-1250.4744077946693,-253.23070566819914,-1174.8846170258626,-391.6952005202286,-1337.3852188419814,-973.0391565162272,-878.542246499392,1374.6408803965066,-1342.0546704380454,38.16670651909621,513.0157226651291,-545.4728882237009,1168.1715604158042,943.3743080129907,-803.9213719916795,1090.5316508179687,1005.56740122081,-113.9114049589217,7.106216846862939,-283.96689476007043,910.8963766931386,1317.7315931142998,1205.1463151612643,-256.30631110945984,1120.5339018647765,-1366.0124618432396,-630.0518932049946,-536.4969876777349,887.9909486990232,-364.13280074459846,1397.4784873133337,-169.36161846144282,199.2007096117969,465.8828285538157,-1314.8221610773385,-1340.734669491637,-219.96945122393433,-597.9272745155126,1055.9387092308336,-1312.680097415152,1293.7666385844348,83.27365011859992,-54.79169933607585,-1089.1020511039362,1116.5690512237181,-392.85923449624346,344.63721602683466,-884.7508077362925,1288.7421535400754,-828.0361515691962,-1396.755326165921,-1204.1370065918056,-628.2758343831915,947.6346680933254,-535.7001106358616,-190.95746940262362,-1277.8825023283664,688.6309800654677,923.9168615180187,1148.7166420913463,-1371.0018811036837,1350.434899575883,1340.1259032738083,256.9632058360106,662.2955639724292,-878.7806725769553,894.7699244388931,146.3818872660559,196.92303244685445,1180.4041720245405,1063.6166098417327,658.159728503031,232.51827774002479,-105.36583346724952,1346.8145819195395,-879.9677467606843,599.5531853358676,378.217618568209,771.0403230779308,-1341.0641238702146,1253.0780974424865,1254.5126860610958,1196.4217831474787,-1400.3310834022454,1254.3990374480843,-629.994811496574,-1026.9425329580188,1202.857904748765,-60.0659602353369,-1395.8563715732503,655.7328874142617,-140.32499342389468,979.1753052863675,599.4742394217185,1380.9186234860665,605.5236317635371,-626.3372506018178,314.11981561689845,170.88271868376665,-1200.730778158016,746.7007092908694,-1049.0058958333716,976.0287088649251,568.2731570164252,861.4176073794772,-512.9074494464077,-1276.2178487850235,316.8333702541464,-765.2033071491434,-1224.2883177049341,1369.3433556514283,-827.7154587988792,952.3156127541355,-590.7626926533011,1399.1892591972714,63.25100372051135,-1342.4429511156268,-1020.7338253795145,887.1821295078914,-655.7147797377731,-885.4677252262641,1254.2974456283453,1402.8455105675039,-1336.324787777498,1348.6474857943613,742.0412150750308,-339.710258807707,-165.45551334978836,914.3486146923703,-766.7190952232878,-1106.608193743633,-745.3126052818601,-173.33634937531525,8.930099552611068,-1361.7982674147058,-454.1768581590055,404.79470252561714,-260.725443195844,-167.8236774771627,-1172.618880163177,-996.1626623208305,-861.2722080311634,254.93596112772863,94.88480125609557,139.12518397909116,809.3266776966555,-193.6558143747286,-51.54614019786541,749.7169769712564,229.23614140795476,324.133354011897,-1165.6699424883518,311.89927350087834,59.27624257620326,-1085.8905358435459,-286.82523702060524,-486.061659248545,864.6627505456009,-630.0978459064539,-1396.4683206628088,1346.7454400327179,607.7784945061225,-423.7641782101994,-1197.3348594897536,1027.6651239447444,624.7841445786946,683.1031347774456,1152.41758718968,-850.3945262256025,-136.17926181414197,-309.79733988753594,-964.0987245523071,-344.9486393257378,-1313.318152040721,1083.1148779477257,1031.7896934675732,-1259.7564256706933,-1275.6034366855215,-909.183899414607,-875.9214442056016,690.9871302302267,1340.9460746391971,543.2370109855482,572.4314390530543],\"yaxis\":\"y\",\"type\":\"scatter\",\"textposition\":\"top center\"},{\"customdata\":[[33],[51],[50],[20],[57],[59],[20],[25],[40],[30],[61],[49],[55],[64],[45],[35],[49],[34],[29],[28],[56],[24],[31],[36],[63],[40],[39],[49],[25],[26],[31],[61],[36],[28],[44],[53],[50],[38],[62],[34],[60],[21],[36],[34],[36],[65],[62],[31],[50],[46],[52],[58],[65],[32],[59],[53],[25],[28],[32],[41],[52],[32],[36],[63],[52],[35],[42],[52],[30],[64],[55],[61],[46],[48],[64],[31],[57],[36],[59],[53],[33],[46],[30],[60],[41],[21],[62],[48],[45],[60],[29],[30],[46],[54],[22],[60],[31],[50],[42],[65],[55],[58],[61],[31],[50],[64],[54],[33],[59],[41],[28],[60],[63],[47],[56],[43],[62],[20],[26],[65],[35],[61],[21],[61],[24],[28],[59],[39],[51],[58],[26],[43],[52],[52],[64],[46],[33],[24],[54],[36],[51],[65],[40],[31],[37],[32],[35],[47],[24],[65],[50],[55],[42],[32],[63],[51],[47],[42],[35],[33],[41],[57],[56],[24],[20],[27],[45],[35],[34],[62],[34],[44],[25],[29],[40],[27],[27],[46],[65],[54],[48],[62],[20],[52],[59],[52],[49],[47],[27],[28],[51],[27],[40],[28],[47],[48],[41],[40],[32],[34],[22],[29],[56],[60],[26],[63],[29],[57],[28],[41],[37],[23],[22],[56],[52],[26],[47],[56],[35],[37],[33],[63],[65],[65],[62],[41],[61],[28],[25],[50],[45],[39],[60],[30],[64],[62],[33],[39],[24],[21],[64],[40],[43],[20],[41],[46],[56],[47],[36],[27],[65]],\"hovertemplate\":\"Cluster=Cluster 3\\u003cbr\\u003ePCA1=%{x}\\u003cbr\\u003ePCA2=%{y}\\u003cbr\\u003eFeature=%{customdata[0]}\\u003cextra\\u003e\\u003c\\u002fextra\\u003e\",\"legendgroup\":\"Cluster 3\",\"marker\":{\"color\":\"#ab63fa\",\"opacity\":0.5,\"symbol\":\"circle\"},\"mode\":\"markers\",\"name\":\"Cluster 3\",\"orientation\":\"v\",\"showlegend\":true,\"x\":[794598.9872102826,1012599.015840412,100598.98433459345,140598.98561697343,1213599.0008541604,65598.99116774442,137599.00221690137,386599.00838343875,1085599.0063946983,555598.9888549714,1122599.000866452,639599.0008927888,1092599.0021670682,1130598.9924067666,583599.0047985418,867598.996965283,1202599.0015014682,528599.0064335217,792598.984928179,754599.0054330124,620599.0038259861,132599.016539757,132599.01523342155,816599.0028283406,1182598.9871934706,1045599.0125901286,579598.9995981727,428598.99960436433,440599.01489499246,60598.99245741667,855599.0031548396,1010599.0005472024,677598.9963321157,486598.99666398513,390599.00383226684,803599.0093418921,175599.00581197406,141598.98530433394,948599.0067301822,939598.9933852236,1181599.0145265916,898599.0103065094,16598.991170980116,574599.0139142893,1015599.0021566869,474599.00188580883,261599.00286543576,331598.99863044353,910598.988829716,415599.0155578125,440598.99536682066,1101598.9950047813,83599.00158223657,774598.9950230441,1058599.0018506465,89598.99344384643,1147598.9894637966,1226599.0148484802,817599.007059525,258599.00254258982,825598.9865588298,615599.0083666517,637598.9973151678,274598.99669869774,765599.0083740699,1181598.9985696257,32599.01329804115,1117598.9927295693,301599.0106733668,255599.00970134212,343598.9940795315,934598.9927398099,185599.00092051676,328598.99635867716,307599.0116659373,71598.99180887063,156599.01231769987,352598.9862561912,765598.9959973984,787599.0106504573,387599.00351498195,1230599.0089871816,405599.007733354,495599.0074085399,46598.987910885306,529599.0051203227,425599.005466895,160598.99506393395,272598.9983064128,445599.00676710176,404598.99927441106,708599.0057727487,133599.01654450127,448599.015558143,583599.0165006479,774598.9940531574,888599.0151940347,624599.0073955144,154599.01622488172,776599.0038138651,1211598.9884855056,1037599.0132378482,197598.99994563867,223598.99928767633,374598.99471879826,690598.9839696044,824599.0057700358,42598.98661004287,794599.0142192657,426599.0025299872,747599.006082298,1007598.9845937005,338598.9895268064,1021599.0018525363,797599.0057716417,630598.9849463704,631599.0008925797,923598.987521221,695598.9989359911,571599.0142456898,161599.00547976373,922599.00316016,183598.98952372177,1082598.9855713523,406598.99732821155,296599.0002560373,450599.0041703188,398599.01100159396,663599.0139163157,1015599.0047837598,390599.0028478225,1169598.9933688282,287599.0012414828,334599.0096971199,757598.995037465,242598.99668943026,1113598.9868585737,647599.0086923353,702598.9872189944,817598.9946879385,1000599.0041329555,1211598.9946697403,22598.994093239202,290599.0113232013,969598.9920855346,1115599.0122525424,1026598.9972838657,366598.99179487355,896598.9901203441,739599.0041519922,168598.99148475754,154599.01101530954,410598.98853780684,815599.0002270355,935598.9881827544,790599.0103293123,264599.00840115995,561599.0106556069,963599.0109620303,62599.01068587695,483598.9963399214,480598.99635032954,147599.00678469168,769599.0109721615,810598.9989229232,390598.98462650797,1125598.9982498854,1054599.0050904783,1212598.9920631933,786599.010333435,1122598.9933700953,887599.0067302296,1036598.9904480353,181598.9882266537,1070598.9845841022,44598.98399933664,695599.0025092945,401599.0080667442,212599.00222972478,1078599.0077061986,339598.98984722974,41598.99898743489,686599.0012076133,711599.0021860434,597599.002844758,1193598.9855591892,768598.9888469845,479598.9875601702,944599.0148622448,889599.0067271946,1030598.9839428755,1000598.99891746,1111599.005083462,1028598.9943522824,909599.0060778164,783598.9904679101,179598.9879047499,356598.992448172,246599.00741749853,163599.01393477508,888598.9943668206,736599.005106396,212598.9983107544,1053599.0057569065,132598.99147710763,1019598.9911112549,542599.0061015149,504598.99407066137,1199598.9875127864,406598.993739072,720598.993069712,448599.007076913,635598.9839544075,168598.9970234147,325598.99278482184,424598.9914516509,147598.99897358663,644598.996665327,1185599.0083328034,92599.00905245772,828599.0073773281,73598.98986701004,886598.9956705534,660598.9868918421,157599.00776565657,941598.9927389261,794599.0165018064,287598.98723796656,460598.9865830629,1011599.0057569135,287599.01360604115,28598.98986292782,90598.99767011154,717598.987214512,179598.99246077106,495599.00904270075,137598.9862701036,788598.9959909004,1148599.0005245623,773599.0005428827,1039598.9852528457,1218599.013226197,331599.00872269395,653599.0132557739,803599.0015287446,797599.0044519985,213598.98562012304,212598.99441151062,964599.0129038448,997599.0037872964,163599.00776814946],\"xaxis\":\"x\",\"y\":[-1127.2264361822772,1384.3007701181386,-1376.3091145566975,-1262.7894679732856,67.96697096208216,-775.9550839387671,194.25583263587092,734.4070022096919,555.4344061881987,-981.4931086267447,69.0265247517992,74.52694330440842,183.37912100685566,-674.0421938101268,418.1529771359337,-271.0810179584463,125.09134333959003,561.802391269497,-1327.2162111291989,473.2056799059367,331.7562447988072,1451.3247098883292,1337.2776330355923,243.52253044627028,-1131.6561577786151,1098.9251196498954,-38.767198187680464,-37.08052331013718,1305.781449489544,-661.8880272010824,272.0883625011848,41.3254455854475,-325.89344477117936,-294.7543846342724,334.35135022078464,815.6355881932778,508.83473144130585,-1290.7895023380238,585.0067481717413,-585.8797542150379,1268.3310742191345,900.5638848693395,-775.3528745860887,1218.2783451092612,184.21934805326734,162.39539941297997,249.81069244790393,-121.95384128837318,-985.5824409761302,1363.090452230214,-409.21821102958324,-444.7588486003841,137.8505170713473,-441.0103265834747,155.7660430694,-576.2077035725246,-931.2381263189023,1296.8496263062032,615.4984196174403,221.86677128300195,-1184.6129901383415,731.7761113193875,-239.42712606966847,-292.2913914637002,730.1154600665917,-131.67048611254918,1167.4293507049756,-644.9069740433135,935.388942729042,849.8902198440783,-522.0998996426796,-642.8557505550365,79.69931899858965,-321.9178673643925,1021.3330932307904,-719.0039680050755,1080.0293399379839,-1208.213908389212,-355.9291829178828,929.8645393365593,306.41971733465624,781.7949912517702,677.180053280984,647.1573426546546,-1061.7058493008944,446.80157974605635,476.9658751086152,-434.028402839468,-150.2921898635229,590.7598754721888,-65.78516906232491,502.7626798707617,1451.3025136687427,1362.714257579764,1446.1406989528382,-527.0092490554007,1328.7123382280975,645.6866847004853,1423.0744988575027,329.9549827220649,-1017.9987697406428,1155.9820420870517,-6.43686068340768,-63.71227756706243,-465.4773370176183,-1412.0305526476898,501.42004947863103,-1175.6500737773888,1243.7385121767154,219.9421683082267,530.2850602764858,-1358.663301658975,-922.0312716567475,156.19922227507502,501.7274011555287,-1325.3474991508908,74.59530642341875,-1099.7315249600463,-97.10029887949791,1246.3244756710592,479.99455756090873,271.32688392050267,-920.2671516341177,-1273.5061683018691,-236.79623479071967,21.42202009178403,362.70302439391986,963.2950786277588,1217.2759736867924,413.26808916897994,248.36223858332295,-588.5214711450672,107.51346560074973,849.0017436593588,-440.8041370610839,-291.96150407877116,-1159.8613804721192,760.4104712867187,-1126.2009722437456,-470.5132930094056,356.43804767682826,-475.01144144860973,-518.4449378760677,992.5138531512381,-700.2309716555435,1069.1273423273537,-243.89264276561667,-722.3638209003173,-871.4240196535126,359.4105300340601,-749.0841089354643,966.039947745803,-1008.8516187985324,15.522197445581739,-1042.8664455508967,901.8286110338069,735.809084081818,932.4144968352933,956.8473075046654,938.0890013979761,-323.7180939795425,-323.6493805732095,594.1441507282179,959.0572047368686,-98.43288021189,-1351.6243830531782,-160.0199606469071,440.82114518449436,-703.0229091848405,901.8750382102471,-587.9866345241701,585.7118559672598,-843.9951769311942,-1034.2556983150507,-1359.3813945001004,-1404.6831137656995,216.877203188632,706.2143360893912,193.41574740894762,669.5500250319714,-893.0771433912032,-89.65955242792099,102.97915923210083,187.70603272617186,246.0052076282752,-1274.7820289347007,-983.9293576303927,-1094.661439421496,1300.0296749699278,585.7001214948741,-1415.9035925955234,-100.56335130692356,440.1495103876245,-500.9266312096352,528.43934025093,-841.1355052037802,-1063.2096414709263,-665.2266761534117,650.0138028365835,1222.925539995475,-499.28707480948526,444.4325363773913,-149.62992705585881,498.81244434092537,-748.6860007999354,-786.8001979405781,532.6431641674675,-523.9237497482144,-1102.8408690105375,-551.8186127743513,-612.3851920530526,619.6788191863302,-1411.4392009409637,-263.0837557171236,-635.8722156546035,-752.0363192229307,-90.87909957935086,-296.54070113118865,725.2946309281891,794.733876390397,643.361491379933,-890.0474385492538,-385.3090777406432,-1154.7334665265628,680.0299260679735,-642.9015962915468,1443.7508386136321,-1121.4733993195018,-1180.4109184532215,499.30055988443695,1192.5482472099957,-889.5355690688897,-205.23002150048694,-1126.3499164886632,-663.2429166954141,790.1802389775019,-1205.7649126488911,-356.1711736977596,39.74019884270272,43.99941151717785,-1301.038233449178,1153.9431280628567,764.0346063558775,1160.387799074653,129.6587265816165,386.7037245488918,-1263.631833532961,-491.6310413029484,1127.8014515042044,327.4372503774022,679.9728577523598],\"yaxis\":\"y\",\"type\":\"scatter\",\"textposition\":\"top center\"}],                        {\"template\":{\"data\":{\"histogram2dcontour\":[{\"type\":\"histogram2dcontour\",\"colorbar\":{\"outlinewidth\":0,\"ticks\":\"\"},\"colorscale\":[[0.0,\"#0d0887\"],[0.1111111111111111,\"#46039f\"],[0.2222222222222222,\"#7201a8\"],[0.3333333333333333,\"#9c179e\"],[0.4444444444444444,\"#bd3786\"],[0.5555555555555556,\"#d8576b\"],[0.6666666666666666,\"#ed7953\"],[0.7777777777777778,\"#fb9f3a\"],[0.8888888888888888,\"#fdca26\"],[1.0,\"#f0f921\"]]}],\"choropleth\":[{\"type\":\"choropleth\",\"colorbar\":{\"outlinewidth\":0,\"ticks\":\"\"}}],\"histogram2d\":[{\"type\":\"histogram2d\",\"colorbar\":{\"outlinewidth\":0,\"ticks\":\"\"},\"colorscale\":[[0.0,\"#0d0887\"],[0.1111111111111111,\"#46039f\"],[0.2222222222222222,\"#7201a8\"],[0.3333333333333333,\"#9c179e\"],[0.4444444444444444,\"#bd3786\"],[0.5555555555555556,\"#d8576b\"],[0.6666666666666666,\"#ed7953\"],[0.7777777777777778,\"#fb9f3a\"],[0.8888888888888888,\"#fdca26\"],[1.0,\"#f0f921\"]]}],\"heatmap\":[{\"type\":\"heatmap\",\"colorbar\":{\"outlinewidth\":0,\"ticks\":\"\"},\"colorscale\":[[0.0,\"#0d0887\"],[0.1111111111111111,\"#46039f\"],[0.2222222222222222,\"#7201a8\"],[0.3333333333333333,\"#9c179e\"],[0.4444444444444444,\"#bd3786\"],[0.5555555555555556,\"#d8576b\"],[0.6666666666666666,\"#ed7953\"],[0.7777777777777778,\"#fb9f3a\"],[0.8888888888888888,\"#fdca26\"],[1.0,\"#f0f921\"]]}],\"heatmapgl\":[{\"type\":\"heatmapgl\",\"colorbar\":{\"outlinewidth\":0,\"ticks\":\"\"},\"colorscale\":[[0.0,\"#0d0887\"],[0.1111111111111111,\"#46039f\"],[0.2222222222222222,\"#7201a8\"],[0.3333333333333333,\"#9c179e\"],[0.4444444444444444,\"#bd3786\"],[0.5555555555555556,\"#d8576b\"],[0.6666666666666666,\"#ed7953\"],[0.7777777777777778,\"#fb9f3a\"],[0.8888888888888888,\"#fdca26\"],[1.0,\"#f0f921\"]]}],\"contourcarpet\":[{\"type\":\"contourcarpet\",\"colorbar\":{\"outlinewidth\":0,\"ticks\":\"\"}}],\"contour\":[{\"type\":\"contour\",\"colorbar\":{\"outlinewidth\":0,\"ticks\":\"\"},\"colorscale\":[[0.0,\"#0d0887\"],[0.1111111111111111,\"#46039f\"],[0.2222222222222222,\"#7201a8\"],[0.3333333333333333,\"#9c179e\"],[0.4444444444444444,\"#bd3786\"],[0.5555555555555556,\"#d8576b\"],[0.6666666666666666,\"#ed7953\"],[0.7777777777777778,\"#fb9f3a\"],[0.8888888888888888,\"#fdca26\"],[1.0,\"#f0f921\"]]}],\"surface\":[{\"type\":\"surface\",\"colorbar\":{\"outlinewidth\":0,\"ticks\":\"\"},\"colorscale\":[[0.0,\"#0d0887\"],[0.1111111111111111,\"#46039f\"],[0.2222222222222222,\"#7201a8\"],[0.3333333333333333,\"#9c179e\"],[0.4444444444444444,\"#bd3786\"],[0.5555555555555556,\"#d8576b\"],[0.6666666666666666,\"#ed7953\"],[0.7777777777777778,\"#fb9f3a\"],[0.8888888888888888,\"#fdca26\"],[1.0,\"#f0f921\"]]}],\"mesh3d\":[{\"type\":\"mesh3d\",\"colorbar\":{\"outlinewidth\":0,\"ticks\":\"\"}}],\"scatter\":[{\"fillpattern\":{\"fillmode\":\"overlay\",\"size\":10,\"solidity\":0.2},\"type\":\"scatter\"}],\"parcoords\":[{\"type\":\"parcoords\",\"line\":{\"colorbar\":{\"outlinewidth\":0,\"ticks\":\"\"}}}],\"scatterpolargl\":[{\"type\":\"scatterpolargl\",\"marker\":{\"colorbar\":{\"outlinewidth\":0,\"ticks\":\"\"}}}],\"bar\":[{\"error_x\":{\"color\":\"#2a3f5f\"},\"error_y\":{\"color\":\"#2a3f5f\"},\"marker\":{\"line\":{\"color\":\"#E5ECF6\",\"width\":0.5},\"pattern\":{\"fillmode\":\"overlay\",\"size\":10,\"solidity\":0.2}},\"type\":\"bar\"}],\"scattergeo\":[{\"type\":\"scattergeo\",\"marker\":{\"colorbar\":{\"outlinewidth\":0,\"ticks\":\"\"}}}],\"scatterpolar\":[{\"type\":\"scatterpolar\",\"marker\":{\"colorbar\":{\"outlinewidth\":0,\"ticks\":\"\"}}}],\"histogram\":[{\"marker\":{\"pattern\":{\"fillmode\":\"overlay\",\"size\":10,\"solidity\":0.2}},\"type\":\"histogram\"}],\"scattergl\":[{\"type\":\"scattergl\",\"marker\":{\"colorbar\":{\"outlinewidth\":0,\"ticks\":\"\"}}}],\"scatter3d\":[{\"type\":\"scatter3d\",\"line\":{\"colorbar\":{\"outlinewidth\":0,\"ticks\":\"\"}},\"marker\":{\"colorbar\":{\"outlinewidth\":0,\"ticks\":\"\"}}}],\"scattermapbox\":[{\"type\":\"scattermapbox\",\"marker\":{\"colorbar\":{\"outlinewidth\":0,\"ticks\":\"\"}}}],\"scatterternary\":[{\"type\":\"scatterternary\",\"marker\":{\"colorbar\":{\"outlinewidth\":0,\"ticks\":\"\"}}}],\"scattercarpet\":[{\"type\":\"scattercarpet\",\"marker\":{\"colorbar\":{\"outlinewidth\":0,\"ticks\":\"\"}}}],\"carpet\":[{\"aaxis\":{\"endlinecolor\":\"#2a3f5f\",\"gridcolor\":\"white\",\"linecolor\":\"white\",\"minorgridcolor\":\"white\",\"startlinecolor\":\"#2a3f5f\"},\"baxis\":{\"endlinecolor\":\"#2a3f5f\",\"gridcolor\":\"white\",\"linecolor\":\"white\",\"minorgridcolor\":\"white\",\"startlinecolor\":\"#2a3f5f\"},\"type\":\"carpet\"}],\"table\":[{\"cells\":{\"fill\":{\"color\":\"#EBF0F8\"},\"line\":{\"color\":\"white\"}},\"header\":{\"fill\":{\"color\":\"#C8D4E3\"},\"line\":{\"color\":\"white\"}},\"type\":\"table\"}],\"barpolar\":[{\"marker\":{\"line\":{\"color\":\"#E5ECF6\",\"width\":0.5},\"pattern\":{\"fillmode\":\"overlay\",\"size\":10,\"solidity\":0.2}},\"type\":\"barpolar\"}],\"pie\":[{\"automargin\":true,\"type\":\"pie\"}]},\"layout\":{\"autotypenumbers\":\"strict\",\"colorway\":[\"#636efa\",\"#EF553B\",\"#00cc96\",\"#ab63fa\",\"#FFA15A\",\"#19d3f3\",\"#FF6692\",\"#B6E880\",\"#FF97FF\",\"#FECB52\"],\"font\":{\"color\":\"#2a3f5f\"},\"hovermode\":\"closest\",\"hoverlabel\":{\"align\":\"left\"},\"paper_bgcolor\":\"white\",\"plot_bgcolor\":\"#E5ECF6\",\"polar\":{\"bgcolor\":\"#E5ECF6\",\"angularaxis\":{\"gridcolor\":\"white\",\"linecolor\":\"white\",\"ticks\":\"\"},\"radialaxis\":{\"gridcolor\":\"white\",\"linecolor\":\"white\",\"ticks\":\"\"}},\"ternary\":{\"bgcolor\":\"#E5ECF6\",\"aaxis\":{\"gridcolor\":\"white\",\"linecolor\":\"white\",\"ticks\":\"\"},\"baxis\":{\"gridcolor\":\"white\",\"linecolor\":\"white\",\"ticks\":\"\"},\"caxis\":{\"gridcolor\":\"white\",\"linecolor\":\"white\",\"ticks\":\"\"}},\"coloraxis\":{\"colorbar\":{\"outlinewidth\":0,\"ticks\":\"\"}},\"colorscale\":{\"sequential\":[[0.0,\"#0d0887\"],[0.1111111111111111,\"#46039f\"],[0.2222222222222222,\"#7201a8\"],[0.3333333333333333,\"#9c179e\"],[0.4444444444444444,\"#bd3786\"],[0.5555555555555556,\"#d8576b\"],[0.6666666666666666,\"#ed7953\"],[0.7777777777777778,\"#fb9f3a\"],[0.8888888888888888,\"#fdca26\"],[1.0,\"#f0f921\"]],\"sequentialminus\":[[0.0,\"#0d0887\"],[0.1111111111111111,\"#46039f\"],[0.2222222222222222,\"#7201a8\"],[0.3333333333333333,\"#9c179e\"],[0.4444444444444444,\"#bd3786\"],[0.5555555555555556,\"#d8576b\"],[0.6666666666666666,\"#ed7953\"],[0.7777777777777778,\"#fb9f3a\"],[0.8888888888888888,\"#fdca26\"],[1.0,\"#f0f921\"]],\"diverging\":[[0,\"#8e0152\"],[0.1,\"#c51b7d\"],[0.2,\"#de77ae\"],[0.3,\"#f1b6da\"],[0.4,\"#fde0ef\"],[0.5,\"#f7f7f7\"],[0.6,\"#e6f5d0\"],[0.7,\"#b8e186\"],[0.8,\"#7fbc41\"],[0.9,\"#4d9221\"],[1,\"#276419\"]]},\"xaxis\":{\"gridcolor\":\"white\",\"linecolor\":\"white\",\"ticks\":\"\",\"title\":{\"standoff\":15},\"zerolinecolor\":\"white\",\"automargin\":true,\"zerolinewidth\":2},\"yaxis\":{\"gridcolor\":\"white\",\"linecolor\":\"white\",\"ticks\":\"\",\"title\":{\"standoff\":15},\"zerolinecolor\":\"white\",\"automargin\":true,\"zerolinewidth\":2},\"scene\":{\"xaxis\":{\"backgroundcolor\":\"#E5ECF6\",\"gridcolor\":\"white\",\"linecolor\":\"white\",\"showbackground\":true,\"ticks\":\"\",\"zerolinecolor\":\"white\",\"gridwidth\":2},\"yaxis\":{\"backgroundcolor\":\"#E5ECF6\",\"gridcolor\":\"white\",\"linecolor\":\"white\",\"showbackground\":true,\"ticks\":\"\",\"zerolinecolor\":\"white\",\"gridwidth\":2},\"zaxis\":{\"backgroundcolor\":\"#E5ECF6\",\"gridcolor\":\"white\",\"linecolor\":\"white\",\"showbackground\":true,\"ticks\":\"\",\"zerolinecolor\":\"white\",\"gridwidth\":2}},\"shapedefaults\":{\"line\":{\"color\":\"#2a3f5f\"}},\"annotationdefaults\":{\"arrowcolor\":\"#2a3f5f\",\"arrowhead\":0,\"arrowwidth\":1},\"geo\":{\"bgcolor\":\"white\",\"landcolor\":\"#E5ECF6\",\"subunitcolor\":\"white\",\"showland\":true,\"showlakes\":true,\"lakecolor\":\"white\"},\"title\":{\"x\":0.05},\"mapbox\":{\"style\":\"light\"}}},\"xaxis\":{\"anchor\":\"y\",\"domain\":[0.0,1.0],\"title\":{\"text\":\"PCA1\"}},\"yaxis\":{\"anchor\":\"x\",\"domain\":[0.0,1.0],\"title\":{\"text\":\"PCA2\"}},\"legend\":{\"title\":{\"text\":\"Cluster\"},\"tracegroupgap\":0},\"margin\":{\"t\":60},\"plot_bgcolor\":\"rgb(240,240,240)\",\"title\":{\"text\":\"2D Cluster PCA Plot\"},\"height\":600},                        {\"responsive\": true}                    ).then(function(){\n",
              "                            \n",
              "var gd = document.getElementById('1fcf5559-e7f5-44ad-8767-cff000f95391');\n",
              "var x = new MutationObserver(function (mutations, observer) {{\n",
              "        var display = window.getComputedStyle(gd).display;\n",
              "        if (!display || display === 'none') {{\n",
              "            console.log([gd, 'removed!']);\n",
              "            Plotly.purge(gd);\n",
              "            observer.disconnect();\n",
              "        }}\n",
              "}});\n",
              "\n",
              "// Listen for the removal of the full notebook cells\n",
              "var notebookContainer = gd.closest('#notebook-container');\n",
              "if (notebookContainer) {{\n",
              "    x.observe(notebookContainer, {childList: true});\n",
              "}}\n",
              "\n",
              "// Listen for the clearing of the current output cell\n",
              "var outputEl = gd.closest('.output');\n",
              "if (outputEl) {{\n",
              "    x.observe(outputEl, {childList: true});\n",
              "}}\n",
              "\n",
              "                        })                };                            </script>        </div>\n",
              "</body>\n",
              "</html>"
            ]
          },
          "metadata": {}
        }
      ]
    },
    {
      "cell_type": "code",
      "source": [
        "plot_model(kmeans,plot='elbow')"
      ],
      "metadata": {
        "colab": {
          "base_uri": "https://localhost:8080/",
          "height": 524
        },
        "id": "ok6_sEAMcNCo",
        "outputId": "5440dd1e-087f-4642-a1dc-355c3a2ba061"
      },
      "execution_count": 13,
      "outputs": [
        {
          "output_type": "display_data",
          "data": {
            "text/plain": [
              "<IPython.core.display.HTML object>"
            ],
            "text/html": []
          },
          "metadata": {}
        },
        {
          "output_type": "display_data",
          "data": {
            "text/plain": [
              "<Figure size 800x550 with 1 Axes>"
            ],
            "image/png": "[encoded data removed]"
          },
          "metadata": {}
        }
      ]
    },
    {
      "cell_type": "code",
      "source": [
        "plot_model(kmeans,plot='tsne')"
      ],
      "metadata": {
        "colab": {
          "base_uri": "https://localhost:8080/",
          "height": 817
        },
        "id": "RJT6YeI0ckmV",
        "outputId": "6431d0db-351a-47bf-a5fd-961e64c2373d"
      },
      "execution_count": null,
      "outputs": [
        {
          "output_type": "display_data",
          "data": {
            "text/plain": [
              "<IPython.core.display.HTML object>"
            ],
            "text/html": []
          },
          "metadata": {}
        },
        {
          "output_type": "display_data",
          "data": {
            "text/html": [
              "<html>\n",
              "<head><meta charset=\"utf-8\" /></head>\n",
              "<body>\n",
              "    <div>            <script src=\"https://cdnjs.cloudflare.com/ajax/libs/mathjax/2.7.5/MathJax.js?config=TeX-AMS-MML_SVG\"></script><script type=\"text/javascript\">if (window.MathJax && window.MathJax.Hub && window.MathJax.Hub.Config) {window.MathJax.Hub.Config({SVG: {font: \"STIX-Web\"}});}</script>                <script type=\"text/javascript\">window.PlotlyConfig = {MathJaxConfig: 'local'};</script>\n",
              "        <script charset=\"utf-8\" src=\"https://cdn.plot.ly/plotly-2.24.1.min.js\"></script>                <div id=\"a4d2fdc4-fc2f-47f4-8696-7a5a23a7c042\" class=\"plotly-graph-div\" style=\"height:800px; width:900px;\"></div>            <script type=\"text/javascript\">                                    window.PLOTLYENV=window.PLOTLYENV || {};                                    if (document.getElementById(\"a4d2fdc4-fc2f-47f4-8696-7a5a23a7c042\")) {                    Plotly.newPlot(                        \"a4d2fdc4-fc2f-47f4-8696-7a5a23a7c042\",                        [{\"customdata\":[[29595.795],[32501.246],[33220.027],[32509.479],[31132.213],[31181.715],[31059.182],[23578.164],[26955.041],[37192.895],[36210.12],[36633.633],[35895.5],[34974.38],[32038.34],[30661.26],[30443.88],[30322.15],[41516.43],[41053.48],[33381.82],[38208.5],[33358.77],[32954.14],[30646.438],[30792.148],[30392.75],[28817.082],[29275.209],[28040.129],[24903.479],[35866.582],[35338.652],[36154.305],[34685.664],[30575.248],[30271.922],[28678.076],[28829.027],[37510.254],[37215.168],[36332.895],[36245.16],[32537.188],[30781.516],[39072.39],[23274.48],[33287.41],[25996.807],[31156.596],[29114.545],[32075.984],[27703.203],[27241.436],[26698.078],[31969.07],[27666.23],[27610.863],[26653.24],[28204.604],[28185.775],[28416.46],[26337.83],[26775.031],[25299.969],[24896.598],[31970.543],[23329.209],[33540.535],[34355.004],[25959.121],[23249.842],[26012.375],[27788.812],[26792.3],[52001.996],[29481.53],[29321.082],[24063.012],[24801.617],[31153.01],[31084.938],[33248.344],[29197.791],[28328.266],[29908.182],[29986.791],[30959.932],[24405.066],[32737.084],[29914.379],[36077.797],[25845.207],[37288.938],[36970.9],[38824.867],[25527.014],[28502.307],[27109.406],[28291.762],[31024.873],[28502.963],[26789.832],[27284.752],[39691.727],[39547.59],[36338.75],[27548.629],[31554.406],[27256.494],[27060.137],[28054.982],[25267.367],[31002.734],[24173.525],[23733.402],[30075.994],[25148.379],[23016.008],[25790.514],[35261.438],[35575.418],[34297.305],[34739.215],[31186.742],[29844.203],[28432.824],[25618.281],[35580.332],[27370.959],[23348.018],[24912.08],[23406.69],[23159.543],[29961.256],[34392.996],[23151.547],[33984.43],[25508.21],[30122.43],[27425.844],[30315.17],[30731.941],[33586.906],[29664.703],[43374.05],[40619.074],[28777.959],[26190.271],[24852.496],[35304.496],[23345.328],[31849.309],[23420.707],[30166.852],[30251.018],[29142.715],[23077.566],[23493.082],[32649.76],[29612.154]],\"hovertemplate\":\"Cluster=Cluster 0\\u003cbr\\u003e0=%{x}\\u003cbr\\u003e1=%{y}\\u003cbr\\u003e2=%{z}\\u003cbr\\u003eFeature=%{customdata[0]}\\u003cextra\\u003e\\u003c\\u002fextra\\u003e\",\"legendgroup\":\"Cluster 0\",\"marker\":{\"color\":\"#636efa\",\"opacity\":0.7,\"symbol\":\"circle\"},\"mode\":\"markers\",\"name\":\"Cluster 0\",\"scene\":\"scene\",\"showlegend\":true,\"x\":[6.90617,8.299489,8.751911,8.634567,7.7080984,7.7077503,7.5341673,2.452277,-1.1195506,10.888624,10.684087,10.827764,10.659486,10.464086,-1.0328939,7.3118105,7.2110868,7.204085,12.394807,12.297705,8.724884,11.855829,8.729337,-1.0586318,7.324879,7.3805895,7.182719,6.050472,6.34215,6.283981,-2.583637,10.717638,10.568342,10.852715,10.3506565,7.3102703,7.2886295,6.19702,6.459404,11.038317,11.005398,10.90719,10.920818,-1.8806572,7.3178544,11.892133,1.7538359,9.158906,4.0075393,7.563057,6.261256,8.282637,5.559787,4.9871244,4.683072,8.352974,-1.5574899,5.1539826,4.5718536,5.6067243,5.804084,6.2821794,4.60148,4.6564226,3.530457,3.4150858,8.310322,0.86931455,9.229674,9.191906,4.344107,0.27705696,-1.6690001,6.0594754,5.405803,12.941183,6.5220675,6.3817554,0.6027322,1.1531701,7.561054,7.5291877,9.716969,6.294107,5.793034,6.769299,7.013576,7.4631867,-1.3821197,8.545726,6.854969,10.654405,-2.061199,11.835899,11.769177,11.802141,-2.0995119,6.415284,4.8426366,5.6485486,7.492173,6.581286,4.598985,5.5629454,12.040066,11.970144,10.607649,5.829941,7.944234,5.785516,4.6743937,6.0564303,-1.7639165,7.3900604,0.78342,0.49944264,6.9578624,3.570602,2.3893871,3.864043,10.303106,10.536062,10.1478,10.379477,-0.9734065,6.9880805,6.0276437,3.6871667,10.422888,5.504646,1.2058347,-2.4347067,0.86129826,0.639364,6.773466,10.177689,0.18607366,10.082439,4.172846,7.122228,5.21066,7.3386927,7.4185724,8.944492,6.619494,12.59088,12.003141,-2.8456414,4.422728,3.2824066,10.317402,1.484288,7.912198,2.4169002,7.223053,7.185017,-0.81381434,1.1426139,2.2060764,8.33914,-0.8961837],\"y\":[-1.1658174,-0.1644476,0.3935716,1.8998848,3.582111,5.072544,5.452039,0.22747402,10.132024,0.36244616,2.0293136,2.0735023,2.609944,3.7280123,11.109839,-1.967743,-1.6402432,-1.0709207,1.6281626,2.0774693,-0.14516458,3.5505726,-0.067505315,11.225731,-0.54290247,-0.0598291,0.3270431,2.4848962,2.462777,5.897473,10.836228,3.1492085,3.5066862,3.3547497,3.7111156,3.1837652,3.7737281,5.1426053,5.546349,1.7484121,2.0421896,3.2605953,3.5107448,11.442615,-1.672136,3.5032585,2.3280563,2.143864,2.643654,0.5173961,3.036158,3.7005537,4.8693295,3.7709148,3.6074917,4.093058,10.5752125,3.5838633,3.3456066,3.0772064,1.8723524,-2.0143168,-1.5294756,-1.2795322,1.3335065,2.352855,2.1509347,5.6651974,1.8393059,0.007896391,-1.102142,7.198571,10.307783,5.7335505,5.2323575,1.0774989,2.957614,2.7816489,7.2411795,6.857499,-0.38203275,0.13584207,4.277689,2.3747156,2.3070743,1.5289612,0.3849388,-0.17673731,9.559543,0.6730288,3.1078851,2.1251085,10.531042,3.6246967,3.6175141,2.6627054,10.504965,5.7793155,3.410698,3.2322042,-2.2488065,6.0889177,3.1632452,-2.374312,2.2935498,2.0841076,0.038769867,5.5278907,1.465361,5.649268,-1.0907272,5.5471354,10.223494,-1.5871652,7.0213437,7.198575,3.0688763,2.9109411,-0.6798155,2.4506917,1.9586383,2.525997,3.4650145,3.7667038,10.954072,3.6497426,5.10574,1.8577473,1.8545834,4.9985476,4.3338704,10.658383,5.8381996,6.1284246,1.6666466,3.3542042,7.284912,3.8473563,-1.0963136,-1.8634466,4.259746,3.8753974,3.2723942,0.5261506,2.6790981,1.5679125,3.2292113,11.482334,-1.1254535,3.1229424,1.9328095,3.4053082,-0.52417254,0.021366768,4.7095237,5.602536,10.486801,4.076649,1.1962004,-0.400387,10.621463],\"z\":[2.5215983,2.8718336,2.7623038,2.3822973,1.7562289,0.60800976,0.38141173,0.40425712,-0.22403859,1.6494502,1.524898,1.4034498,1.2221373,0.45780283,-0.78015983,2.3215113,2.4394567,2.6349823,0.013375032,-0.16484174,2.8069236,-1.1043543,2.807459,-0.84603816,2.80081,2.8839626,2.861614,2.2681758,2.3514016,0.29270765,-0.47788176,0.7847013,0.5966394,0.46805,0.56901443,2.0661373,1.6980847,0.6919138,0.46227607,1.347179,1.269345,0.50096655,0.23071413,-0.91081464,2.4463828,-1.1113693,0.40489662,2.1337957,1.048878,2.862931,2.0664184,1.4989172,0.7511369,1.1438757,1.0858891,1.1725175,-0.41344264,1.3203377,1.1453383,1.7957757,2.3567042,1.9836229,1.312999,1.3667678,0.8767369,0.85404336,2.3534336,0.6371169,2.231179,2.646885,1.2359085,0.7019592,-0.2526533,0.37659714,0.5770916,-1.9372797,2.1784256,2.2301211,0.62215155,0.56674,2.8573337,2.9000266,0.38103563,2.37183,2.236871,2.635587,2.8339026,2.8810747,0.092033505,2.7482302,2.1274326,1.5045834,-0.33621278,-1.1543108,-1.0508504,0.0021798066,-0.31710708,0.34168535,1.2528955,1.7280132,2.2090356,0.18804617,1.2258189,1.5987734,0.022838354,0.2570769,1.8511207,0.47093898,2.6253848,0.41811323,1.39747,0.46576622,-0.19604827,2.4894755,0.6117324,0.650882,2.1516945,0.9014091,0.33349097,1.0035684,1.761671,1.3590888,0.9234331,0.4870384,-0.6946078,1.7924762,0.6967006,0.9455455,1.7382303,0.68059725,0.5555406,-0.37784937,0.63907915,0.6884499,2.6069334,0.99696285,0.7111128,0.6088416,1.1544628,2.329208,0.97101736,1.6193032,2.005041,2.6852717,2.3120499,-0.21761961,-0.98641336,-0.8900736,1.2718456,0.8376976,1.7652972,0.4931406,2.8371656,0.3794164,0.9866218,0.36003885,-0.44565493,0.5381962,0.3935669,2.840168,-0.5122917],\"type\":\"scatter3d\"},{\"customdata\":[[17312.906],[16403.254],[17115.121],[16536.744],[16713.984],[12495.971],[12678.854],[16341.804],[17119.457],[16803.123],[16988.303],[17316.096],[16860.871],[16723.994],[18004.871],[16508.59],[15832.519],[15554.283],[17158.922],[15118.894],[22894.44],[22064.293],[22120.758],[14914.201],[16143.957],[16543.98],[16825.191],[16744.03],[20294.576],[17801.23],[16472.898],[17663.225],[16993.781],[16644.088],[17553.754],[19075.68],[15233.16],[19409.752],[18527.209],[18912.982],[17839.8],[15138.4],[15623.2],[16300.465],[17789.348],[17294.182],[18083.396],[16805.057],[17154.576],[15951.812],[22244.877],[15503.509],[17986.225],[12465.509],[12258.857],[11903.098],[12209.56],[14703.137],[15059.134],[15594.807],[15253.868],[15595.884],[16391.926],[16033.931],[16106.827],[16551.219],[17325.27],[15792.831],[16216.98],[17023.938],[18620.871],[18042.22],[18548.979],[19294.787],[16078.665],[15297.836],[15505.294],[18529.342],[18158.084],[19204.809],[12464.073],[19540.244],[12832.462],[13961.111],[15756.146],[16041.686],[15967.245],[15724.252],[16256.236],[15979.015],[16516.955],[16853.107],[19448.227],[19956.758],[19423.164],[18701.223],[20173.906],[19646.717],[12830.099],[14963.046],[15457.171],[16283.959],[16997.693],[16569.14],[15788.1045],[16391.172],[17162.873],[17095.035],[12828.031],[13162.853],[13034.068],[12878.047],[16295.212],[20627.662],[14546.885],[20619.113],[22470.36],[22113.629],[17586.928],[18876.871],[20017.969],[20839.15],[20676.166],[14398.923],[15622.121],[14909.051],[14853.199],[15797.195],[16345.943],[16357.992],[17515.398],[15680.864],[15664.625],[15623.92],[16646.771],[16752.514],[16507.07],[16027.286],[16860.094],[16267.095],[16456.975],[17173.941],[20047.951],[15174.347],[21525.34],[21020.836],[19338.377],[19689.74],[19116.13],[20109.904],[20830.994],[15568.975],[15589.78],[15730.046],[15802.653],[15086.899],[17768.059],[18063.006],[18566.07],[18856.02],[17844.73],[19751.041],[20127.045],[14396.2705],[14869.282],[21200.69],[21403.756],[21765.066],[22189.115],[22231.562],[21982.648],[22525.27],[20221.809],[20382.15],[13159.821],[13585.637],[13994.906],[14077.969],[14411.858],[13600.034],[13032.868],[11539.049],[12293.06],[13998.129],[14568.002],[13122.905],[13494.289],[12036.217],[12162.14],[12333.604],[21536.742],[12099.015],[12119.09],[11679.924],[13216.912],[21831.822],[21698.016],[21878.12],[22435.203],[22661.049],[13811.155],[12412.521],[13825.154],[13869.155],[11179.953],[10921.945],[11247.862],[11391.214],[11343.054],[11031.13],[9954.054],[10491.075],[10144.952],[11215.019],[9928.188],[10777.053],[11045.108],[13830.249],[10386.04],[11096.857],[11017.169],[11472.022],[14702.798],[15033.15],[13991.04],[14771.004],[13719.238],[13518.235],[11394.887],[12284.288],[19191.99],[19556.898],[21058.139],[20406.1],[21183.123],[21460.014],[21273.062],[11504.824],[11521.526],[17968.838],[17808.2],[18543.428],[19105.13],[19344.166],[19774.25],[19924.158],[15295.019],[14862.094],[15048.042],[15230.003],[15709.053],[16339.17],[16175.958],[15731.133],[11413.53],[19641.742],[10563.066],[22625.074],[19425.848],[19981.127],[21562.047],[20952.219],[21575.457],[21646.117],[12594.183],[12105.981],[17645.744],[17394.021],[17772.969],[17750.885],[18348.898],[19027.863],[17944.857],[18145.127],[11873.534],[12965.224],[20902.104],[20986.016],[21683.031],[21341.258],[21799.172],[22230.027],[11070.061],[11137.046],[11115.014],[13436.0],[12981.952],[14077.969],[13540.042],[10546.783],[11464.629],[11671.858],[12243.061],[11539.049],[11574.174],[12257.164],[11699.034],[12846.062],[12944.938],[14145.881],[13308.834],[13688.0],[14275.128],[13762.901],[14255.748],[12230.1],[12733.858],[13594.086],[13141.048],[11013.871],[13678.863],[11328.959],[13161.942],[14220.014],[12379.127],[11581.905],[14175.879],[14401.907],[14191.882],[14418.165],[14508.75],[14897.041],[15163.17],[12741.19],[13545.031],[13744.85],[13688.945],[14304.741],[14593.8545],[11080.517],[12553.071],[13019.071],[13530.068],[13310.06],[13699.036],[14185.021],[12487.055],[12706.911],[11961.62],[12897.93],[12570.137],[12845.174],[13106.9],[13135.905],[12684.986],[13230.919],[12507.485],[12573.9],[12469.527],[12045.921],[8768.999],[8870.947],[12383.402],[9041.906],[8638.931],[9482.22],[9665.849],[9563.789],[9654.061],[9220.83],[9789.038],[9506.048],[9720.979],[10287.978],[9919.048],[10921.945],[10872.014],[10770.106],[11169.918],[10805.13],[11615.021],[11539.846],[11726.003],[12810.91],[12327.642],[12549.893],[11203.146],[10788.971],[11149.618],[12207.873],[12630.775],[13446.214],[12234.888],[13471.005],[12274.958],[12425.39],[12319.696]],\"hovertemplate\":\"Cluster=Cluster 1\\u003cbr\\u003e0=%{x}\\u003cbr\\u003e1=%{y}\\u003cbr\\u003e2=%{z}\\u003cbr\\u003eFeature=%{customdata[0]}\\u003cextra\\u003e\\u003c\\u002fextra\\u003e\",\"legendgroup\":\"Cluster 1\",\"marker\":{\"color\":\"#EF553B\",\"opacity\":0.7,\"symbol\":\"circle\"},\"mode\":\"markers\",\"name\":\"Cluster 1\",\"scene\":\"scene\",\"showlegend\":true,\"x\":[-3.556974,-5.3975434,-4.863714,-5.4029107,-5.551241,-10.506938,-9.352119,-5.765893,-2.4089212,-5.353301,-4.973153,-2.6828096,-3.325019,-3.4027977,-1.7160795,-5.9044957,-6.008578,-5.959845,-3.7291245,-7.0488224,0.40130383,-0.3610914,-0.40992263,-6.165052,-6.157617,-5.395459,-5.153463,-4.4046807,-3.872122,-2.1058295,-4.6565905,-2.274475,-5.064029,-4.8757987,-2.0147722,-0.45463735,-6.1702123,-0.27633238,-1.5543189,-1.7157195,-4.016673,-6.2137218,-6.6865435,-5.8662567,-4.1956296,-4.815779,-4.284291,-3.2080429,-3.7947059,-6.2737412,-3.1697118,-5.98018,-1.2019299,-10.482115,-10.704334,-11.154952,-10.794396,-7.402887,-6.7995358,-6.083391,-5.8167176,-4.1658335,-3.141779,-3.6392324,-3.8616397,-3.4899902,-2.8126864,-5.4821353,-5.5243216,-5.162489,-3.1353812,-2.7066264,-1.9521298,-0.62673044,-5.6301875,-6.6691914,-6.689736,-4.091475,-4.062359,-2.755567,-10.134613,-1.4348418,-8.837564,-7.1841483,-5.997098,-6.304083,-6.193407,-6.39845,-5.3814964,-5.3871155,-4.1537247,-2.6116073,-2.9894447,-2.0152614,-2.3871038,-2.9867494,-0.50398195,-0.93626666,-6.175809,-6.3651934,-6.087634,-6.0188828,-5.1301126,-5.587444,-6.3090773,-4.6008396,-3.4925375,-2.5765057,-8.349896,-9.802665,-9.811621,-8.365947,-5.9670563,0.05461252,-6.3636303,-0.91669136,1.0756242,0.9744617,-5.0983534,-3.2331862,-1.1608001,-0.24459344,1.0444632,-7.457404,-6.321811,-7.175247,-7.3942747,-6.5012546,-5.854849,-5.519788,-2.101637,-6.5076118,-6.498364,-5.476132,-3.671191,-2.8961084,-2.7640433,-5.725508,-4.948515,-4.818271,-3.8723369,-2.4914072,-1.5628477,-6.9888463,-0.2644621,-0.7974894,-3.1454694,-2.5835469,-2.7708917,-1.1435678,0.6859665,-4.162336,-5.525091,-5.406239,-5.355355,-7.200881,-4.349065,-4.007542,-3.0638907,-1.8106691,-2.8677578,-0.5814068,0.5033095,-6.6600227,-6.3815084,-3.0870843,-0.8003487,-0.25402483,0.087705724,1.0558584,1.2093431,1.782863,-1.8058195,-1.3617574,-9.684542,-6.618294,-5.2221985,-8.909328,-8.404638,-9.236896,-8.585457,-6.66291,-5.579461,-5.986537,-5.6646442,-7.9413614,-7.713005,-9.683877,-10.471823,-10.287671,-3.0962453,-10.805692,-10.796643,-11.347832,-9.613051,-0.1503511,-0.23247007,0.56855726,1.1139561,1.7441975,-9.34378,-10.577667,-9.383528,-8.924767,-11.785423,-11.982372,-11.288884,-11.201686,-10.541153,-10.762808,-7.1736803,-9.012112,-12.540065,-10.561643,-9.591032,-10.406925,-11.916929,-5.559765,-12.205204,-10.777071,-10.757535,-10.261419,-4.889495,-5.884167,-7.7804637,-7.008577,-8.903643,-9.629924,-11.656944,-10.713192,-3.5958776,-2.1875992,-0.54744124,-0.82683736,0.3455189,1.0986723,1.1288332,-7.6684093,-7.408992,-4.8972454,-4.937228,-3.2197003,-2.2379348,-1.9335897,-1.4904231,-0.18032616,-6.999935,-7.3658786,-6.915639,-6.58853,-5.847913,-3.7996216,-3.686926,-4.9283633,-8.12348,-3.6210825,-8.390246,0.9525567,-3.045232,-1.5510991,0.10328004,0.5439263,1.0070453,1.1962562,-10.389206,-9.753152,-4.383295,-4.584804,-4.053823,-4.0800567,-2.8950162,-1.6534225,-2.0414534,-1.4340236,-9.809908,-8.795949,-2.8239982,-1.1466384,-0.5419563,-0.45090652,0.07753608,1.0284922,-11.956272,-11.7277775,-9.232409,-8.211771,-8.5852585,-5.2809925,-5.541617,-6.8187594,-9.4451275,-11.416809,-10.781469,-11.440426,-11.089636,-10.277573,-10.0741005,-9.648049,-9.4937725,-7.506994,-8.174967,-6.7949057,-5.9597774,-5.9745545,-4.8190026,-9.650288,-9.597624,-8.097284,-8.310032,-12.006076,-5.9688616,-6.559741,-8.879256,-7.9053836,-8.35979,-7.073367,-7.6900625,-7.451008,-7.622326,-6.833778,-6.009661,-5.0840364,-4.0602083,-7.047071,-9.251272,-8.90034,-8.358171,-7.5090284,-5.8401814,-7.1112804,-7.569544,-9.470106,-9.289862,-9.773879,-9.511373,-7.415654,-9.506646,-9.734403,-10.189619,-9.980346,-10.200763,-9.891117,-9.411607,-9.313416,-8.816179,-9.881339,-9.011042,-10.467026,-9.060578,-9.457248,-7.822203,-8.483231,-10.648044,-13.0798,-13.085814,-12.883179,-11.595429,-11.623373,-11.601321,-9.549209,-12.592447,-12.565797,-11.703663,-4.3903213,-7.838303,-10.423418,-12.109483,-12.145103,-11.675905,-11.255314,-9.925075,-11.346208,-11.281691,-8.560623,-9.147962,-10.516756,-10.513931,-8.750546,-7.6382666,-10.785656,-10.163277,-5.8885517,-8.791336,-7.2552814,-9.297684,-10.430778,-10.659311],\"y\":[0.54086655,1.9141318,3.3880525,2.9491396,5.169132,5.029415,7.855423,4.203292,-3.1698542,4.672299,3.7720504,-1.687134,-1.50193,-1.703763,-2.2770605,6.4341426,9.041916,9.881445,0.503523,4.9213824,6.341414,6.929333,7.3260117,10.096276,5.412535,3.35439,2.2996209,0.7572602,9.666131,-1.7365209,0.5556401,-1.6817473,2.4891634,1.2886205,-2.7903023,-2.0938032,9.632298,-1.3683918,-0.91886425,1.1297684,4.378632,9.612397,6.3843737,4.511531,6.2965817,7.859397,7.872757,-1.9572593,0.60587806,4.9223843,11.487269,9.880688,-3.467401,2.0878222,2.6261704,3.7914774,4.7846413,1.678695,1.0963486,1.0329237,-0.6667823,-4.145816,-3.743932,-3.7289555,-2.24967,-2.000801,-1.3629797,11.3358755,10.392561,8.3903,4.715973,0.8889796,0.5435333,-0.74548995,1.5181727,1.5254512,2.5440223,8.174404,7.280288,5.8478913,-0.83117217,2.267925,-2.7795186,-3.8294628,7.9156513,6.654096,4.4386935,2.4273026,1.4471684,0.6902033,-0.45523784,-3.5899122,6.90455,5.552948,5.018548,4.2907357,1.1328124,0.97452796,-6.3540983,9.251557,8.373794,5.3838234,4.6166725,4.5815244,4.152931,0.16983171,-0.07800246,-2.7441144,-4.698393,2.7783713,2.1919348,-4.580971,7.0047946,0.84745926,9.96829,3.9333713,3.0149133,2.4548655,11.030327,6.5257874,2.456906,2.1600668,-1.4576124,-0.8309602,1.7460302,1.6850352,2.3599463,5.619008,4.7596846,2.1969497,-2.6604502,4.822683,4.6600323,-0.17202869,-1.2490072,-3.0923593,-4.2753844,1.5959918,1.7819617,0.2673743,-1.2371299,-2.7036638,4.300618,6.6250505,5.027677,5.3426447,7.0566864,6.449315,5.602782,2.6038063,-0.19193433,-4.2456236,-0.1576475,-0.0132233575,0.086755805,6.335423,7.2908487,6.788253,4.058697,1.8433604,0.50186276,0.45442507,-1.3487506,9.2731085,9.383671,8.7718725,6.71418,5.716003,5.700329,2.4341135,0.9016435,0.2993229,5.7734866,4.925757,0.37842995,10.749957,-5.9834795,5.8394995,5.987401,6.2900214,8.690723,11.544723,-7.032248,-5.2997165,-4.7408743,-4.6754766,-4.162847,-4.0772805,-1.0467917,-0.8756485,10.403723,0.23488754,0.32659072,0.94961053,2.2787025,5.5441513,5.451587,3.4306,2.752507,0.73687637,5.389027,3.0586607,5.2401867,2.3833947,0.4548732,0.38817602,-1.7929267,-1.7440045,-3.6431513,-3.590302,11.458029,9.629655,1.9090769,-3.8091416,9.246372,7.7864695,2.887695,-5.8941555,-0.6435981,-3.4302979,-3.6351516,-4.0462213,-5.308993,-3.6902568,-1.7182629,0.4862197,1.9272022,5.1491404,3.5053885,3.153927,7.8071632,4.747388,4.447309,2.4219334,1.5964977,0.018581778,-0.504722,10.591853,10.874327,10.02632,9.621408,5.198827,3.4970112,3.3001413,2.9606545,-0.17708845,6.2646756,2.2060146,1.3919691,1.0794826,0.8866229,-1.709447,-2.7172844,-0.9188492,10.156265,8.756588,10.20945,3.8556406,6.980389,3.951566,3.9124234,0.41745946,0.5343876,0.13527717,5.2225165,7.72159,6.9328957,4.3088326,4.091925,4.0758667,3.3676207,1.379806,-1.4804412,-2.6318858,7.85517,8.49172,8.29942,6.60676,6.488925,5.1392922,4.5860376,2.569146,3.7457414,-0.2919313,9.095806,-2.6585557,-3.217319,-5.83143,-6.2138314,11.580726,8.616341,4.1776133,3.5023565,2.328047,-1.5405589,-1.315832,-4.0375133,6.8783135,-1.0334823,-2.3273773,-3.4490907,-4.9672823,-4.8960814,-5.6195807,-5.9966335,7.7651563,-1.3782309,-2.3501081,-3.738207,3.9141405,-5.7265053,11.604945,-1.7473066,1.4746202,9.32006,11.2243185,-1.0044941,-0.98952353,-1.4406847,-3.3850086,-4.439911,-4.7563806,-5.330413,10.658813,6.47951,2.001232,-1.1404716,-1.4453373,-4.5008426,11.319226,10.060082,7.1259556,6.32606,5.239838,5.0803857,-2.5236695,7.75556,6.9053802,7.1313605,0.99692816,-0.07271329,-0.17096318,-0.77340055,-0.915261,8.622627,4.954588,-4.1704006,3.574682,-4.179583,-4.5655456,11.182299,10.561138,3.5874486,3.2300735,2.9674037,2.8490076,-3.8287568,-3.913728,-3.9423025,9.467613,-0.0009234359,-0.6867758,-3.046598,-9.327483,10.944921,7.6873198,3.9371178,3.3520772,-0.4298699,-2.5935254,-4.51652,-0.34437844,0.59202456,-4.3678784,-4.481893,4.605756,7.393442,9.776953,10.772754,1.3072478,0.05589267,-6.0373716,8.90861,-4.8448534,-4.2775803,0.29504272,2.9423525],\"z\":[-1.3138325,0.018368583,1.3907869,1.0607634,2.3519926,0.72228724,0.44251463,2.1127195,-1.67745,2.2595007,1.7155131,-1.9966686,-2.0984457,-2.125078,-1.6190275,2.1624804,0.898807,0.338649,-1.349752,2.2113981,0.7445613,0.9088885,0.8534641,0.14852288,2.3524382,1.4286904,0.3959454,-1.1684593,0.39438725,-1.8029884,-1.3002788,-1.8652444,0.57721424,-0.66147095,-1.6665764,-0.97025234,0.5008803,-0.87075275,-1.3942751,-0.616036,1.833227,0.50869685,2.104382,2.2769284,2.020427,1.5999941,1.5599574,-2.0989835,-1.2886932,2.363699,-0.8817633,0.33717614,-1.1534444,0.21525696,0.3353539,0.50196755,0.63454044,-0.04343182,-0.49945635,-0.7022077,-1.6507732,-1.4413091,-1.5765424,-1.6124904,-2.0942864,-2.1231906,-1.983104,-0.8559991,-0.055058256,1.3130381,1.6420866,-0.9780096,-0.95871425,-0.936572,-0.357135,-0.21539247,0.71781164,1.3760533,1.7841784,1.6421971,-0.52152574,0.08728366,-0.7938453,-1.0172428,1.541275,2.0752902,2.257271,0.6091743,-0.4561545,-1.1006699,-1.813944,-1.5625021,1.6362916,1.41469,1.4613616,1.487015,-0.32457507,-0.48603642,-0.45891032,0.72090906,1.2852188,2.3624468,2.1999133,2.2704628,2.0986428,-1.5377517,-1.6156466,-1.8474545,-0.5238451,0.3732056,0.21491444,-0.5529537,1.9669728,-0.29171398,0.21845919,0.75141835,0.38100114,0.259402,-0.5854218,1.7550111,0.19639935,0.09317279,-0.30220485,-1.1416924,-0.056060243,-0.043946233,0.5169819,2.2855554,2.3504689,0.32273847,-1.7282754,2.3277574,2.30418,-1.5859942,-2.069284,-1.7984586,-1.2869624,-0.2694088,-0.16128194,-1.4692789,-2.0666707,-1.837423,1.031508,1.9641283,0.8686642,1.0443449,1.6424968,1.5804744,1.6374549,0.2676953,-0.327951,-1.4005711,-1.5679945,-1.5303075,-1.4908983,1.9842987,1.8224639,1.9155084,1.4320722,-0.21285105,-1.2241739,-0.5809863,-0.5320336,0.6332211,0.6335499,0.85012895,1.0556462,0.923154,0.83384335,0.26773846,0.028735673,0.14538258,1.3666067,1.1367823,-0.38778606,-0.4402431,-0.69388586,1.4299558,1.6069278,1.1558105,0.32810438,-1.129598,-0.32938161,-0.84615356,-1.0875916,-0.6258025,-0.81408143,-0.31409404,-0.40959072,-0.4708562,-0.1663166,-0.16929458,-0.1544595,0.102061756,0.23719582,0.8884012,0.90364057,0.46279606,0.33654493,0.18180919,1.308304,0.41915175,1.3054999,0.3043731,0.13354853,0.17384303,-0.05757064,-0.095774874,-0.10882869,-0.048958905,-1.1548791,-0.4779768,0.32049778,-0.08341927,-0.5135458,-0.12857638,0.3691999,-0.6993146,0.20226568,-0.061005365,-0.04584593,-0.1403251,-0.9502204,-1.3554618,-1.1623244,-0.73997927,0.11857316,1.1783743,0.4317115,0.43318108,1.4704404,1.344506,0.8237869,0.18054095,-0.02783742,-0.14860253,-0.19292697,-0.6027316,-0.7299506,0.21530266,0.50726724,1.7363158,0.93941826,0.75625193,0.48079294,-0.63278955,2.0611722,0.39149255,-0.28739122,-0.555975,-0.8621154,-2.1373844,-1.9760517,-1.8992463,-0.46155557,0.9508782,-0.6061403,0.5199529,1.6352789,0.9115563,0.60810554,-0.26384464,-0.099874176,-0.09766169,0.75152665,0.2927235,1.9452429,1.9652914,1.7256157,1.7253876,1.0557064,-0.4670392,-1.7482733,-1.4387265,0.18911122,0.35831475,1.0448076,1.1637963,0.99691504,0.9289852,0.736157,0.28971884,0.4320927,0.06929094,-0.23399128,-0.98054296,-0.798765,-0.74292547,-0.59271306,-1.1842104,-0.047902714,0.5103401,0.49291667,0.30564383,-0.15475443,-0.48409697,-0.19918363,0.724586,-0.7332372,-1.1908503,-0.8607916,-0.7924522,-0.98861307,-0.7363733,-0.70071995,0.32810006,-0.7051997,-1.0457181,-0.7700755,0.4347275,-0.70128113,-1.1668669,-0.88882697,-0.15262651,0.012067592,-0.92619854,-1.1372489,-1.1837058,-1.1981977,-1.1951089,-1.1239198,-1.1476922,-0.9341848,-0.4614168,1.0910386,0.14767353,-1.0238842,-1.2242029,-1.13693,-1.0185875,-0.1974968,0.729803,1.1167418,1.0902424,1.2428573,-1.1902623,0.4127583,0.662552,0.29628974,-0.1348659,-0.4004166,-0.50460917,-0.7350142,-0.77539957,0.2699541,1.0395215,-0.49341625,0.54072654,-0.47763705,-0.2709665,-1.1192838,-0.89406353,0.52155733,0.35825557,0.35138568,0.35485715,0.20494792,0.2201359,0.2166654,-0.6265909,0.30852014,0.3051946,0.17721778,0.10708084,-0.93401253,-0.087427095,0.42541754,0.3984854,0.049412236,0.0053458256,-0.15213595,-0.05396197,0.026453845,-0.56147444,-0.3778217,0.72439855,-0.008395706,-0.46011063,-0.7275579,0.069581926,-0.38401243,-0.6099031,0.10096739,-0.7283772,-0.3859873,-0.25995734,0.39429092],\"type\":\"scatter3d\"},{\"customdata\":[[17418.068],[13258.366],[12791.751],[17322.078],[16353.097],[16425.174],[17803.28],[13174.071],[29246.238],[15977.911],[16507.07],[30353.586],[30274.71],[17978.357],[14116.922],[15194.976],[13160.125],[16379.099],[26841.08],[27825.95],[15277.067],[15395.011],[16706.674],[17214.324],[16256.236],[15639.037],[16916.87],[27280.982],[16927.78],[15821.95],[14739.067],[15110.192],[14202.997],[18173.979],[18490.982],[14881.955],[17314.104],[14997.885],[14266.912],[14222.306],[13464.803],[14642.323],[14397.928],[15053.934],[13167.702],[14678.105],[14198.093],[14894.982],[13681.698],[14584.448],[13041.874],[13007.984],[10315.019],[14061.123],[13072.842],[15553.209],[15047.003],[21757.049],[14072.135],[14194.823],[14582.77],[14696.029],[14429.79],[15084.815],[10971.096],[16428.578],[15000.993],[15128.992],[14847.044],[14619.078],[15747.804],[15635.796],[14023.938],[16116.844],[19528.1],[10354.044],[10897.076],[21908.367],[20099.258],[20698.076],[23547.24],[23447.688],[21895.758],[22926.09],[23785.922],[22358.877],[20512.094],[20538.088],[21335.852],[16336.913],[16218.848],[17542.035],[21956.342],[25589.982],[25098.629],[26831.193],[11167.861],[10813.344],[11302.903],[12408.806],[11918.456],[11700.111],[11555.268],[10106.017],[12409.949],[12314.591],[12649.111],[12163.82],[12146.188],[26302.074],[26781.814],[26060.336],[11318.008],[20021.195],[18800.959],[18727.508],[22104.973],[18835.19],[21903.322],[22004.93],[21607.773],[22460.53],[23102.021],[23197.438],[20318.89],[18678.414],[19682.035],[23449.307],[25452.475],[23527.729],[23573.822],[21233.912],[20537.143],[22384.12],[21725.012],[22311.049],[21875.098],[21383.066],[20452.67],[19567.26],[19822.115],[21281.88],[21300.02],[22100.393],[21230.979],[18254.922],[15077.176],[14841.917],[21745.03],[15604.1455],[15327.101],[16379.853],[15979.015],[16792.68],[17202.834],[17141.941],[17675.838],[17360.81],[20677.594],[15846.013],[17685.201],[22736.834],[18009.846],[18950.906],[17891.633],[25097.473],[27714.05],[18040.145],[19164.611],[17458.22],[19471.975],[24809.043],[18273.006],[18311.756],[19446.883],[18974.922],[18957.89],[19581.23],[19177.412],[25948.963],[18910.805],[18800.094],[18324.832],[17218.686],[17463.047],[17162.479],[17089.918],[18169.375]],\"hovertemplate\":\"Cluster=Cluster 2\\u003cbr\\u003e0=%{x}\\u003cbr\\u003e1=%{y}\\u003cbr\\u003e2=%{z}\\u003cbr\\u003eFeature=%{customdata[0]}\\u003cextra\\u003e\\u003c\\u002fextra\\u003e\",\"legendgroup\":\"Cluster 2\",\"marker\":{\"color\":\"#00cc96\",\"opacity\":0.7,\"symbol\":\"circle\"},\"mode\":\"markers\",\"name\":\"Cluster 2\",\"scene\":\"scene\",\"showlegend\":true,\"x\":[4.9453354,-2.9749491,-4.4479504,1.9261036,-1.9691201,-0.9531656,0.9974653,-2.1007211,8.140936,-3.0089214,-1.9434144,7.787742,7.8137465,1.7044667,-1.3517169,-0.60247844,-1.9953959,2.2064238,6.02349,6.448758,-3.787554,-0.7633098,2.1608262,0.56766695,1.3493552,2.051054,5.541404,7.7440104,5.5020595,-1.3142302,5.443396,5.313481,-0.6967957,4.5782604,3.7017841,-1.8643808,2.8871207,1.6745025,1.6059965,1.7140214,-2.5017295,3.2029514,3.720039,4.177698,-2.839989,-0.35860196,-0.40939182,5.2335978,0.22463772,5.5435133,-2.3260977,2.2124221,-3.7643118,3.7804508,-2.7025845,2.442544,-0.61649144,6.8102417,-2.8074412,0.958975,2.6270263,2.9189615,3.2185535,-2.0165184,2.2897875,1.754337,-1.8747286,-1.4094726,-1.0565902,-2.9580312,3.6061802,5.7783012,-1.9665011,5.940998,0.732023,-3.7826672,2.4084775,1.9346817,3.342773,6.5808015,3.1729138,3.206701,2.1580274,3.2475874,4.754074,4.6539364,1.3700905,1.7870276,3.838101,-2.1441953,-0.48034468,2.5139577,1.8589296,7.4399533,5.4396505,7.6686,3.2066464,4.8270097,-3.607148,-0.2880281,2.2266517,-3.76797,-2.9086494,-3.7278621,-1.4626343,3.7024307,4.020209,-1.6102711,-0.2546631,5.3664575,5.697585,5.7958593,-1.0939555,6.648659,3.721268,0.30293006,4.55753,3.6101797,6.246675,2.5567994,3.6897013,4.6939588,6.097185,6.967858,0.9844366,-0.57745785,2.7313268,2.8704314,5.2823987,3.3725564,4.101254,1.5557578,1.3002551,2.9488807,3.129881,3.9117155,3.469535,5.0858493,3.420844,6.54783,6.637102,1.5607544,3.184096,3.539145,3.507798,-0.7851136,-1.1057454,-0.75956553,5.2792797,3.7091663,4.4299903,4.7933106,4.8008304,0.62575614,2.2420585,3.7731452,4.7366104,6.2195907,3.301283,4.033664,-0.91669804,6.0089397,-0.5001683,3.434322,-1.082508,4.3304715,7.8084235,1.4102745,6.5423164,-0.7580177,4.5778427,3.897661,-0.7297419,-0.9746663,6.6214614,4.8204,4.7021284,4.1683664,2.740516,7.4989924,3.5777414,4.707768,3.835223,-0.656318,1.3069427,-1.2690821,2.5094404,-0.2535201],\"y\":[-10.141553,-8.322449,-7.656675,-8.032127,-5.267825,-6.6200285,-6.9547734,-9.074101,-6.1025095,-4.918342,-5.1449785,-3.5211701,-3.6739182,-7.263871,-8.737553,-8.325915,-9.158256,-9.108967,-4.2059264,-4.1036634,-5.3647304,-7.9699397,-8.759838,-7.06737,-8.359224,-9.724851,-10.763758,-6.4645114,-10.74517,-7.0501475,-11.661897,-11.50849,-9.105769,-9.178292,-8.292994,-7.581505,-8.7134905,-10.015591,-10.452991,-10.5325365,-8.518262,-11.076284,-11.391197,-11.24904,-8.505506,-9.011548,-9.3307705,-11.576744,-10.119251,-11.72597,-9.01399,-11.426367,-9.586616,-11.57288,-8.692542,-10.145717,-8.461217,-8.874081,-7.6917663,-10.206261,-10.833962,-10.920463,-11.178945,-7.279429,-12.102328,-8.600747,-7.4583826,-7.68339,-8.263864,-7.04167,-10.670643,-11.402067,-8.388425,-11.24068,-4.89237,-9.569486,-12.151247,-1.5774447,-6.3405113,-9.028523,-2.0064692,-2.2867658,-2.0946586,-3.1601386,-4.883326,-6.069961,-2.2861357,-3.3945274,-5.8072343,-5.155778,-7.363185,-8.310375,-1.2663199,-7.272862,-4.53477,-6.574203,-12.331349,-12.482112,-9.380951,-10.449148,-11.885923,-9.075972,-9.654776,-9.645594,-9.954975,-12.227111,-12.1909,-9.990327,-10.536179,-3.2293386,-3.6217782,-4.3580775,-10.413744,-9.496547,-8.092965,-5.229169,-6.0979733,-7.990409,-8.005587,-2.6903083,-5.391932,-6.06329,-7.420631,-8.206888,-1.8251576,-4.014914,-5.999022,-1.3399442,-3.8926795,-2.6746378,-4.1940026,-1.7449921,-2.1057203,-3.035742,-4.137824,-5.1213703,-4.757306,-7.1682324,-6.067535,-9.61188,-9.592097,-1.687739,-4.679408,-4.693438,-5.4432354,-4.125397,-7.988815,-8.525664,-7.151627,-10.803359,-11.194435,-10.752174,-10.978769,-7.401031,-8.404839,-9.387065,-9.732254,-10.693695,-5.648583,-10.782575,-4.78943,-7.4629297,-5.054477,-7.7569914,-3.8977423,-2.581762,-6.301051,-7.045221,-9.857521,-5.2902675,-8.33042,-1.7792021,-4.2696176,-3.4114883,-9.806374,-8.890338,-8.789302,-7.895304,-6.691009,-7.416868,-7.9096184,-8.89478,-8.492679,-5.7290335,-7.3415036,-5.0234056,-8.687251,-5.1931868],\"z\":[1.6566429,0.021915177,-0.20513314,1.2848362,-0.6982514,-0.02234097,0.7355613,0.28805116,1.0372918,-1.0201122,-0.73662597,1.635393,1.5710709,1.0386778,0.36638638,0.4754054,0.31869003,1.4706643,1.3251016,1.367345,-0.90391666,0.3684514,1.4562048,0.61720026,1.1356975,1.3886361,1.3633207,1.0955912,1.3816624,0.009564174,1.049671,1.1518342,0.55945903,1.8282961,1.7817829,0.029471463,1.6562709,1.2592053,1.1815228,1.1941403,0.120325126,1.4224575,1.3579534,1.4243425,0.074108504,0.6297125,0.6484769,1.1358232,0.85752374,0.9963744,0.2415434,1.0678453,0.19646229,1.2790232,0.1280238,1.4421694,0.49180403,1.2037928,-0.097532466,1.0442718,1.3631394,1.40907,1.3898114,-0.07343283,0.8224043,1.3061899,-0.0014487922,0.14673936,0.3473972,-0.27988982,1.5880413,1.066605,0.18415818,1.0691205,0.06571665,0.19180366,0.82101214,0.094212204,1.2222652,1.2544156,0.6593751,0.6731288,0.20240103,0.7135391,1.182047,1.25194,-0.1400916,0.18898281,1.1500378,-0.77463055,0.32854995,1.5242434,0.0687188,1.1315057,1.2633948,1.1039814,0.82799023,0.7422116,0.17197563,0.75979185,0.8964682,0.1012382,0.2933738,0.2103084,0.5194111,0.91426665,0.9339219,0.5019349,0.7643829,1.3671899,1.3751923,1.2970622,0.6241092,1.2085905,1.7584786,-0.0124152275,1.2501137,1.7276889,1.3191471,0.41080195,1.0638824,1.2534885,1.3125236,1.1943476,-0.33716998,-0.7318176,1.0032105,0.53234625,1.2719868,0.7430196,1.0144632,-0.08072231,-0.18587613,0.59322375,0.7551973,1.0592116,0.9264377,1.4370217,1.1595147,1.2281222,1.2024962,-0.07814884,0.8455372,0.933399,1.0462669,-0.7870654,0.28176606,0.46445844,1.4015044,1.5671843,1.4304491,1.54125,1.4682329,0.7167218,1.4531654,1.779295,1.755422,1.1299987,1.0510803,1.5855678,-0.60023344,1.3282422,-0.3703493,1.6476107,-0.9737432,1.0916007,1.09291,0.89370936,1.196451,-0.37902746,1.7879938,0.987898,-0.7191582,-1.0649065,1.1792395,1.8109674,1.8240055,1.7308668,1.1826445,1.1200227,1.7066903,1.8264599,1.8098544,-0.20607741,0.93296266,-0.61601895,1.5592403,-0.23490573],\"type\":\"scatter3d\"},{\"customdata\":[[43892.47],[42677.6],[33417.965],[44084.914],[44130.617],[46747.67],[49248.16],[51154.047],[30957.08],[39801.55],[31431.13],[44300.64],[33005.78],[37383.504],[32197.34],[46732.605],[47065.21],[44749.688],[42773.027],[41371.38],[40335.74],[38167.17],[38324.81],[39875.855],[39713.668],[38990.605],[39092.19],[39365.883],[32053.098],[39307.008],[35165.758],[38445.9],[69133.734],[66374.305],[65281.48],[63913.117],[60567.55],[57154.445],[55639.086],[37088.562],[35033.215],[32746.13],[33183.332],[32219.59],[30800.658],[35622.14],[34819.297],[68566.19],[38600.24],[70755.47],[42377.957],[42820.33],[41378.047],[40856.39],[41419.04],[35715.77],[35651.68],[35129.34],[42741.523],[40966.605],[38795.38],[38297.46],[48310.33],[48365.98],[45061.953],[44205.875],[41671.582],[32422.762]],\"hovertemplate\":\"Cluster=Cluster 3\\u003cbr\\u003e0=%{x}\\u003cbr\\u003e1=%{y}\\u003cbr\\u003e2=%{z}\\u003cbr\\u003eFeature=%{customdata[0]}\\u003cextra\\u003e\\u003c\\u002fextra\\u003e\",\"legendgroup\":\"Cluster 3\",\"marker\":{\"color\":\"#ab63fa\",\"opacity\":0.7,\"symbol\":\"circle\"},\"mode\":\"markers\",\"name\":\"Cluster 3\",\"scene\":\"scene\",\"showlegend\":true,\"x\":[12.636566,12.534426,9.113652,12.61441,12.616953,12.584451,12.329335,12.350284,8.071205,11.403901,8.185059,12.667123,9.028557,11.002329,8.949522,12.15071,12.172773,12.301491,12.104393,12.277363,11.553592,10.933984,10.906388,11.154906,11.158757,11.014412,11.07081,11.176704,8.876255,11.370276,9.8284235,11.214452,13.117864,13.1225815,13.124501,13.120031,13.085583,13.023952,13.0012245,10.148361,9.665158,8.86889,8.903516,8.483994,8.358452,9.836393,9.657535,13.1132765,11.243473,13.100149,12.304975,11.662766,11.409744,11.586148,11.801588,9.757962,9.857204,9.744428,11.755501,11.341527,11.163989,11.186026,12.247998,12.245503,12.409771,12.359891,12.36237,8.683552],\"y\":[1.1935904,1.464188,-4.72533,0.76950747,0.7622948,-1.5125123,-3.3837428,-3.5126426,-3.7026007,-1.8506085,-3.5787158,1.2252457,-4.8085017,-0.9575279,-5.3733106,-3.6650903,-3.5801687,-2.1474185,-1.685041,0.39522603,-1.635327,-2.257527,-2.599531,-3.7957473,-3.4142702,-3.336393,-2.961454,-2.673307,-5.198322,-1.1378534,-2.7010355,-0.058056094,-1.4391648,-1.2585535,-1.0596262,-0.86171937,-0.2965003,0.38088566,0.5833936,-4.728824,-5.1891346,-4.41829,-3.811565,-3.5738137,-4.5357394,-3.3794553,-3.0072129,-1.486716,-0.66571134,-1.6506109,-0.0742466,-3.8011525,-3.534769,-2.2304697,-1.7285511,-4.525889,-3.3177981,-3.0377843,-3.9473157,-3.6661747,-1.9114544,-0.78134286,-3.6610308,-3.6172655,-1.7915112,-1.5472715,0.57473445,-4.0498962],\"z\":[-0.07138753,-0.07180972,0.97889185,0.09079828,0.08957318,0.17480388,-0.90803856,-1.0692954,1.5478488,1.0717863,1.5837331,-0.1273286,0.98839724,1.5336366,0.860843,-0.8509966,-0.8131449,0.21472216,0.5943341,0.50672495,1.0316775,1.1992788,1.0737945,0.24159785,0.49804974,0.6423893,0.80536103,0.88504046,0.94403225,1.2583004,1.5509421,1.4401042,-1.993115,-1.9803896,-1.9658531,-1.9458895,-1.8777336,-1.8209809,-1.8264858,0.4134982,0.5343171,1.1671324,1.3652143,1.5367029,1.2583963,1.2302992,1.4776292,-1.9914753,1.4079764,-1.9934382,0.5009945,-0.30220506,0.20536819,0.8060045,0.8270041,0.74023056,1.2506931,1.4308047,-0.54615366,0.17148611,1.1959672,1.4389491,-0.998283,-0.9616197,0.2814552,0.39873835,0.3979952,1.3349825],\"type\":\"scatter3d\"}],                        {\"template\":{\"data\":{\"histogram2dcontour\":[{\"type\":\"histogram2dcontour\",\"colorbar\":{\"outlinewidth\":0,\"ticks\":\"\"},\"colorscale\":[[0.0,\"#0d0887\"],[0.1111111111111111,\"#46039f\"],[0.2222222222222222,\"#7201a8\"],[0.3333333333333333,\"#9c179e\"],[0.4444444444444444,\"#bd3786\"],[0.5555555555555556,\"#d8576b\"],[0.6666666666666666,\"#ed7953\"],[0.7777777777777778,\"#fb9f3a\"],[0.8888888888888888,\"#fdca26\"],[1.0,\"#f0f921\"]]}],\"choropleth\":[{\"type\":\"choropleth\",\"colorbar\":{\"outlinewidth\":0,\"ticks\":\"\"}}],\"histogram2d\":[{\"type\":\"histogram2d\",\"colorbar\":{\"outlinewidth\":0,\"ticks\":\"\"},\"colorscale\":[[0.0,\"#0d0887\"],[0.1111111111111111,\"#46039f\"],[0.2222222222222222,\"#7201a8\"],[0.3333333333333333,\"#9c179e\"],[0.4444444444444444,\"#bd3786\"],[0.5555555555555556,\"#d8576b\"],[0.6666666666666666,\"#ed7953\"],[0.7777777777777778,\"#fb9f3a\"],[0.8888888888888888,\"#fdca26\"],[1.0,\"#f0f921\"]]}],\"heatmap\":[{\"type\":\"heatmap\",\"colorbar\":{\"outlinewidth\":0,\"ticks\":\"\"},\"colorscale\":[[0.0,\"#0d0887\"],[0.1111111111111111,\"#46039f\"],[0.2222222222222222,\"#7201a8\"],[0.3333333333333333,\"#9c179e\"],[0.4444444444444444,\"#bd3786\"],[0.5555555555555556,\"#d8576b\"],[0.6666666666666666,\"#ed7953\"],[0.7777777777777778,\"#fb9f3a\"],[0.8888888888888888,\"#fdca26\"],[1.0,\"#f0f921\"]]}],\"heatmapgl\":[{\"type\":\"heatmapgl\",\"colorbar\":{\"outlinewidth\":0,\"ticks\":\"\"},\"colorscale\":[[0.0,\"#0d0887\"],[0.1111111111111111,\"#46039f\"],[0.2222222222222222,\"#7201a8\"],[0.3333333333333333,\"#9c179e\"],[0.4444444444444444,\"#bd3786\"],[0.5555555555555556,\"#d8576b\"],[0.6666666666666666,\"#ed7953\"],[0.7777777777777778,\"#fb9f3a\"],[0.8888888888888888,\"#fdca26\"],[1.0,\"#f0f921\"]]}],\"contourcarpet\":[{\"type\":\"contourcarpet\",\"colorbar\":{\"outlinewidth\":0,\"ticks\":\"\"}}],\"contour\":[{\"type\":\"contour\",\"colorbar\":{\"outlinewidth\":0,\"ticks\":\"\"},\"colorscale\":[[0.0,\"#0d0887\"],[0.1111111111111111,\"#46039f\"],[0.2222222222222222,\"#7201a8\"],[0.3333333333333333,\"#9c179e\"],[0.4444444444444444,\"#bd3786\"],[0.5555555555555556,\"#d8576b\"],[0.6666666666666666,\"#ed7953\"],[0.7777777777777778,\"#fb9f3a\"],[0.8888888888888888,\"#fdca26\"],[1.0,\"#f0f921\"]]}],\"surface\":[{\"type\":\"surface\",\"colorbar\":{\"outlinewidth\":0,\"ticks\":\"\"},\"colorscale\":[[0.0,\"#0d0887\"],[0.1111111111111111,\"#46039f\"],[0.2222222222222222,\"#7201a8\"],[0.3333333333333333,\"#9c179e\"],[0.4444444444444444,\"#bd3786\"],[0.5555555555555556,\"#d8576b\"],[0.6666666666666666,\"#ed7953\"],[0.7777777777777778,\"#fb9f3a\"],[0.8888888888888888,\"#fdca26\"],[1.0,\"#f0f921\"]]}],\"mesh3d\":[{\"type\":\"mesh3d\",\"colorbar\":{\"outlinewidth\":0,\"ticks\":\"\"}}],\"scatter\":[{\"fillpattern\":{\"fillmode\":\"overlay\",\"size\":10,\"solidity\":0.2},\"type\":\"scatter\"}],\"parcoords\":[{\"type\":\"parcoords\",\"line\":{\"colorbar\":{\"outlinewidth\":0,\"ticks\":\"\"}}}],\"scatterpolargl\":[{\"type\":\"scatterpolargl\",\"marker\":{\"colorbar\":{\"outlinewidth\":0,\"ticks\":\"\"}}}],\"bar\":[{\"error_x\":{\"color\":\"#2a3f5f\"},\"error_y\":{\"color\":\"#2a3f5f\"},\"marker\":{\"line\":{\"color\":\"#E5ECF6\",\"width\":0.5},\"pattern\":{\"fillmode\":\"overlay\",\"size\":10,\"solidity\":0.2}},\"type\":\"bar\"}],\"scattergeo\":[{\"type\":\"scattergeo\",\"marker\":{\"colorbar\":{\"outlinewidth\":0,\"ticks\":\"\"}}}],\"scatterpolar\":[{\"type\":\"scatterpolar\",\"marker\":{\"colorbar\":{\"outlinewidth\":0,\"ticks\":\"\"}}}],\"histogram\":[{\"marker\":{\"pattern\":{\"fillmode\":\"overlay\",\"size\":10,\"solidity\":0.2}},\"type\":\"histogram\"}],\"scattergl\":[{\"type\":\"scattergl\",\"marker\":{\"colorbar\":{\"outlinewidth\":0,\"ticks\":\"\"}}}],\"scatter3d\":[{\"type\":\"scatter3d\",\"line\":{\"colorbar\":{\"outlinewidth\":0,\"ticks\":\"\"}},\"marker\":{\"colorbar\":{\"outlinewidth\":0,\"ticks\":\"\"}}}],\"scattermapbox\":[{\"type\":\"scattermapbox\",\"marker\":{\"colorbar\":{\"outlinewidth\":0,\"ticks\":\"\"}}}],\"scatterternary\":[{\"type\":\"scatterternary\",\"marker\":{\"colorbar\":{\"outlinewidth\":0,\"ticks\":\"\"}}}],\"scattercarpet\":[{\"type\":\"scattercarpet\",\"marker\":{\"colorbar\":{\"outlinewidth\":0,\"ticks\":\"\"}}}],\"carpet\":[{\"aaxis\":{\"endlinecolor\":\"#2a3f5f\",\"gridcolor\":\"white\",\"linecolor\":\"white\",\"minorgridcolor\":\"white\",\"startlinecolor\":\"#2a3f5f\"},\"baxis\":{\"endlinecolor\":\"#2a3f5f\",\"gridcolor\":\"white\",\"linecolor\":\"white\",\"minorgridcolor\":\"white\",\"startlinecolor\":\"#2a3f5f\"},\"type\":\"carpet\"}],\"table\":[{\"cells\":{\"fill\":{\"color\":\"#EBF0F8\"},\"line\":{\"color\":\"white\"}},\"header\":{\"fill\":{\"color\":\"#C8D4E3\"},\"line\":{\"color\":\"white\"}},\"type\":\"table\"}],\"barpolar\":[{\"marker\":{\"line\":{\"color\":\"#E5ECF6\",\"width\":0.5},\"pattern\":{\"fillmode\":\"overlay\",\"size\":10,\"solidity\":0.2}},\"type\":\"barpolar\"}],\"pie\":[{\"automargin\":true,\"type\":\"pie\"}]},\"layout\":{\"autotypenumbers\":\"strict\",\"colorway\":[\"#636efa\",\"#EF553B\",\"#00cc96\",\"#ab63fa\",\"#FFA15A\",\"#19d3f3\",\"#FF6692\",\"#B6E880\",\"#FF97FF\",\"#FECB52\"],\"font\":{\"color\":\"#2a3f5f\"},\"hovermode\":\"closest\",\"hoverlabel\":{\"align\":\"left\"},\"paper_bgcolor\":\"white\",\"plot_bgcolor\":\"#E5ECF6\",\"polar\":{\"bgcolor\":\"#E5ECF6\",\"angularaxis\":{\"gridcolor\":\"white\",\"linecolor\":\"white\",\"ticks\":\"\"},\"radialaxis\":{\"gridcolor\":\"white\",\"linecolor\":\"white\",\"ticks\":\"\"}},\"ternary\":{\"bgcolor\":\"#E5ECF6\",\"aaxis\":{\"gridcolor\":\"white\",\"linecolor\":\"white\",\"ticks\":\"\"},\"baxis\":{\"gridcolor\":\"white\",\"linecolor\":\"white\",\"ticks\":\"\"},\"caxis\":{\"gridcolor\":\"white\",\"linecolor\":\"white\",\"ticks\":\"\"}},\"coloraxis\":{\"colorbar\":{\"outlinewidth\":0,\"ticks\":\"\"}},\"colorscale\":{\"sequential\":[[0.0,\"#0d0887\"],[0.1111111111111111,\"#46039f\"],[0.2222222222222222,\"#7201a8\"],[0.3333333333333333,\"#9c179e\"],[0.4444444444444444,\"#bd3786\"],[0.5555555555555556,\"#d8576b\"],[0.6666666666666666,\"#ed7953\"],[0.7777777777777778,\"#fb9f3a\"],[0.8888888888888888,\"#fdca26\"],[1.0,\"#f0f921\"]],\"sequentialminus\":[[0.0,\"#0d0887\"],[0.1111111111111111,\"#46039f\"],[0.2222222222222222,\"#7201a8\"],[0.3333333333333333,\"#9c179e\"],[0.4444444444444444,\"#bd3786\"],[0.5555555555555556,\"#d8576b\"],[0.6666666666666666,\"#ed7953\"],[0.7777777777777778,\"#fb9f3a\"],[0.8888888888888888,\"#fdca26\"],[1.0,\"#f0f921\"]],\"diverging\":[[0,\"#8e0152\"],[0.1,\"#c51b7d\"],[0.2,\"#de77ae\"],[0.3,\"#f1b6da\"],[0.4,\"#fde0ef\"],[0.5,\"#f7f7f7\"],[0.6,\"#e6f5d0\"],[0.7,\"#b8e186\"],[0.8,\"#7fbc41\"],[0.9,\"#4d9221\"],[1,\"#276419\"]]},\"xaxis\":{\"gridcolor\":\"white\",\"linecolor\":\"white\",\"ticks\":\"\",\"title\":{\"standoff\":15},\"zerolinecolor\":\"white\",\"automargin\":true,\"zerolinewidth\":2},\"yaxis\":{\"gridcolor\":\"white\",\"linecolor\":\"white\",\"ticks\":\"\",\"title\":{\"standoff\":15},\"zerolinecolor\":\"white\",\"automargin\":true,\"zerolinewidth\":2},\"scene\":{\"xaxis\":{\"backgroundcolor\":\"#E5ECF6\",\"gridcolor\":\"white\",\"linecolor\":\"white\",\"showbackground\":true,\"ticks\":\"\",\"zerolinecolor\":\"white\",\"gridwidth\":2},\"yaxis\":{\"backgroundcolor\":\"#E5ECF6\",\"gridcolor\":\"white\",\"linecolor\":\"white\",\"showbackground\":true,\"ticks\":\"\",\"zerolinecolor\":\"white\",\"gridwidth\":2},\"zaxis\":{\"backgroundcolor\":\"#E5ECF6\",\"gridcolor\":\"white\",\"linecolor\":\"white\",\"showbackground\":true,\"ticks\":\"\",\"zerolinecolor\":\"white\",\"gridwidth\":2}},\"shapedefaults\":{\"line\":{\"color\":\"#2a3f5f\"}},\"annotationdefaults\":{\"arrowcolor\":\"#2a3f5f\",\"arrowhead\":0,\"arrowwidth\":1},\"geo\":{\"bgcolor\":\"white\",\"landcolor\":\"#E5ECF6\",\"subunitcolor\":\"white\",\"showland\":true,\"showlakes\":true,\"lakecolor\":\"white\"},\"title\":{\"x\":0.05},\"mapbox\":{\"style\":\"light\"}}},\"scene\":{\"domain\":{\"x\":[0.0,1.0],\"y\":[0.0,1.0]},\"xaxis\":{\"title\":{\"text\":\"0\"}},\"yaxis\":{\"title\":{\"text\":\"1\"}},\"zaxis\":{\"title\":{\"text\":\"2\"}}},\"legend\":{\"title\":{\"text\":\"Cluster\"},\"tracegroupgap\":0},\"title\":{\"text\":\"3d TSNE Plot for Clusters\"},\"height\":800,\"width\":900},                        {\"responsive\": true}                    ).then(function(){\n",
              "                            \n",
              "var gd = document.getElementById('a4d2fdc4-fc2f-47f4-8696-7a5a23a7c042');\n",
              "var x = new MutationObserver(function (mutations, observer) {{\n",
              "        var display = window.getComputedStyle(gd).display;\n",
              "        if (!display || display === 'none') {{\n",
              "            console.log([gd, 'removed!']);\n",
              "            Plotly.purge(gd);\n",
              "            observer.disconnect();\n",
              "        }}\n",
              "}});\n",
              "\n",
              "// Listen for the removal of the full notebook cells\n",
              "var notebookContainer = gd.closest('#notebook-container');\n",
              "if (notebookContainer) {{\n",
              "    x.observe(notebookContainer, {childList: true});\n",
              "}}\n",
              "\n",
              "// Listen for the clearing of the current output cell\n",
              "var outputEl = gd.closest('.output');\n",
              "if (outputEl) {{\n",
              "    x.observe(outputEl, {childList: true});\n",
              "}}\n",
              "\n",
              "                        })                };                            </script>        </div>\n",
              "</body>\n",
              "</html>"
            ]
          },
          "metadata": {}
        }
      ]
    },
    {
      "cell_type": "code",
      "source": [],
      "metadata": {
        "id": "vVzR9inaptRi"
      },
      "execution_count": null,
      "outputs": []
    }
  ]
}